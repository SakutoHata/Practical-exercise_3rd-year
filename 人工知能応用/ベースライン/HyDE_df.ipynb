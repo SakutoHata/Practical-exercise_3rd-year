{
 "cells": [
  {
   "cell_type": "markdown",
   "metadata": {},
   "source": [
    "HyDEを用いたベクター検索システム"
   ]
  },
  {
   "cell_type": "markdown",
   "metadata": {},
   "source": [
    "## 初期設定、準備"
   ]
  },
  {
   "cell_type": "markdown",
   "metadata": {},
   "source": [
    "ライブラリのインストール"
   ]
  },
  {
   "cell_type": "code",
   "execution_count": null,
   "metadata": {},
   "outputs": [],
   "source": [
    "# パッケージのインストール\n",
    "!pip install -U langchain langgraph langchain_openai langchainhub tavily-python\n",
    "!pip install openai"
   ]
  },
  {
   "cell_type": "code",
   "execution_count": 28,
   "metadata": {},
   "outputs": [
    {
     "name": "stdout",
     "output_type": "stream",
     "text": [
      "Collecting mecab-python3\n",
      "  Downloading mecab_python3-1.0.8-cp310-cp310-win_amd64.whl.metadata (6.3 kB)\n",
      "Collecting janome\n",
      "  Downloading Janome-0.5.0-py2.py3-none-any.whl.metadata (2.6 kB)\n",
      "Downloading mecab_python3-1.0.8-cp310-cp310-win_amd64.whl (501 kB)\n",
      "   ---------------------------------------- 0.0/501.4 kB ? eta -:--:--\n",
      "    --------------------------------------- 10.2/501.4 kB ? eta -:--:--\n",
      "   --- ----------------------------------- 41.0/501.4 kB 487.6 kB/s eta 0:00:01\n",
      "   --------- ------------------------------ 122.9/501.4 kB 1.0 MB/s eta 0:00:01\n",
      "   ---------------------------------------- 501.4/501.4 kB 3.1 MB/s eta 0:00:00\n",
      "Downloading Janome-0.5.0-py2.py3-none-any.whl (19.7 MB)\n",
      "   ---------------------------------------- 0.0/19.7 MB ? eta -:--:--\n",
      "    --------------------------------------- 0.3/19.7 MB 9.9 MB/s eta 0:00:02\n",
      "   - -------------------------------------- 0.7/19.7 MB 8.8 MB/s eta 0:00:03\n",
      "   -- ------------------------------------- 1.3/19.7 MB 10.4 MB/s eta 0:00:02\n",
      "   --- ------------------------------------ 1.9/19.7 MB 11.2 MB/s eta 0:00:02\n",
      "   ----- ---------------------------------- 2.6/19.7 MB 12.0 MB/s eta 0:00:02\n",
      "   ------ --------------------------------- 3.4/19.7 MB 12.9 MB/s eta 0:00:02\n",
      "   -------- ------------------------------- 4.3/19.7 MB 13.7 MB/s eta 0:00:02\n",
      "   ----------- ---------------------------- 5.6/19.7 MB 15.6 MB/s eta 0:00:01\n",
      "   -------------- ------------------------- 7.0/19.7 MB 17.2 MB/s eta 0:00:01\n",
      "   ---------------- ----------------------- 8.3/19.7 MB 18.4 MB/s eta 0:00:01\n",
      "   -------------------- ------------------- 10.0/19.7 MB 19.9 MB/s eta 0:00:01\n",
      "   ----------------------- ---------------- 11.6/19.7 MB 25.2 MB/s eta 0:00:01\n",
      "   ---------------------------- ----------- 13.8/19.7 MB 32.7 MB/s eta 0:00:01\n",
      "   -------------------------------- ------- 15.8/19.7 MB 36.3 MB/s eta 0:00:01\n",
      "   ----------------------------------- ---- 17.4/19.7 MB 36.4 MB/s eta 0:00:01\n",
      "   -------------------------------------- - 19.0/19.7 MB 38.6 MB/s eta 0:00:01\n",
      "   ---------------------------------------  19.7/19.7 MB 38.5 MB/s eta 0:00:01\n",
      "   ---------------------------------------- 19.7/19.7 MB 34.4 MB/s eta 0:00:00\n",
      "Installing collected packages: mecab-python3, janome\n",
      "Successfully installed janome-0.5.0 mecab-python3-1.0.8\n"
     ]
    }
   ],
   "source": [
    "!pip install mecab-python3 janome"
   ]
  },
  {
   "cell_type": "markdown",
   "metadata": {},
   "source": [
    "環境設定"
   ]
  },
  {
   "cell_type": "code",
   "execution_count": 1,
   "metadata": {},
   "outputs": [],
   "source": [
    "import os\n",
    "\n",
    "new_path = r\"C:/Users/iput Hata Sakuto/AppData/Roaming/nltk_data/corpora/stopwords\"\n",
    "current_path = os.environ.get(\"PATH\", \"\")\n",
    "\n",
    "# 追加するパスを既存のPATHに追加\n",
    "os.environ[\"PATH\"] = new_path + \";\" + current_path"
   ]
  },
  {
   "cell_type": "code",
   "execution_count": 2,
   "metadata": {},
   "outputs": [],
   "source": [
    "import os\n",
    "import openai\n",
    "# OpenAIに関する環境変数\n",
    "openai.api_key = os.environ[\"OPENAI_API_KEY\"]\n",
    "\n",
    "# 出力先のパス\n",
    "out_path = \"C:/Users/iput Hata Sakuto/cuda-11.8/提出/ベースライン/out_put\"\n",
    "\n",
    "# txtデータのパス\n",
    "txt_path = \"C:/Users/iput Hata Sakuto/cuda-11.8/提出/ベースライン/Iput_data.txt\""
   ]
  },
  {
   "cell_type": "markdown",
   "metadata": {},
   "source": [
    "## langchain"
   ]
  },
  {
   "cell_type": "code",
   "execution_count": 3,
   "metadata": {},
   "outputs": [],
   "source": [
    "from langchain_openai import OpenAI\n",
    "from langchain_community.embeddings import OpenAIEmbeddings\n",
    "from langchain.chains import HypotheticalDocumentEmbedder\n",
    "from langchain.chains import LLMChain\n",
    "from langchain.prompts import PromptTemplate"
   ]
  },
  {
   "cell_type": "markdown",
   "metadata": {},
   "source": [
    "### ChatGPTとlangchainの連携に関する設定"
   ]
  },
  {
   "cell_type": "code",
   "execution_count": 4,
   "metadata": {},
   "outputs": [],
   "source": [
    "# カスタムプロンプトの準備\n",
    "prompt_template = \"\"\"質問に回答する文章を日本語で書いてください\n",
    "質問: {question}\n",
    "回答:\"\"\"\n",
    "prompt = PromptTemplate(input_variables=[\"question\"], template=prompt_template)\n",
    "llm_chain = LLMChain(llm=OpenAI(temperature=0), prompt=prompt)"
   ]
  },
  {
   "cell_type": "markdown",
   "metadata": {},
   "source": [
    "HyDE用のプロンプトを用意"
   ]
  },
  {
   "cell_type": "code",
   "execution_count": 5,
   "metadata": {},
   "outputs": [
    {
     "name": "stderr",
     "output_type": "stream",
     "text": [
      "c:\\ProgramData\\anaconda3\\envs\\pyspark-cuda118\\lib\\site-packages\\langchain_core\\_api\\deprecation.py:117: LangChainDeprecationWarning: The class `langchain_community.embeddings.openai.OpenAIEmbeddings` was deprecated in langchain-community 0.1.0 and will be removed in 0.2.0. An updated version of the class exists in the langchain-openai package and should be used instead. To use it run `pip install -U langchain-openai` and import as `from langchain_openai import OpenAIEmbeddings`.\n",
      "  warn_deprecated(\n"
     ]
    }
   ],
   "source": [
    "# カスタムプロンプトのHypotheticalDocumentEmbedderの準備\n",
    "embeddings = HypotheticalDocumentEmbedder(\n",
    "    llm_chain=llm_chain, \n",
    "    base_embeddings=OpenAIEmbeddings(), \n",
    ")"
   ]
  },
  {
   "cell_type": "markdown",
   "metadata": {},
   "source": [
    "自作データを取り込む"
   ]
  },
  {
   "cell_type": "code",
   "execution_count": 6,
   "metadata": {},
   "outputs": [],
   "source": [
    "from langchain.text_splitter import CharacterTextSplitter\n",
    "from langchain.vectorstores import FAISS\n",
    "from PyPDF2 import PdfReader\n",
    "import re\n",
    "import pandas as pd\n",
    "\n",
    "# 取り込む対象のtxtファイル先\n",
    "output_filepath = txt_path\n"
   ]
  },
  {
   "cell_type": "markdown",
   "metadata": {},
   "source": [
    "データをchunkingする"
   ]
  },
  {
   "cell_type": "code",
   "execution_count": null,
   "metadata": {},
   "outputs": [],
   "source": [
    "\"\"\"\n",
    "#使用データがPDFの場合、以下を実行\n",
    "\n",
    "# PDFデータの文字データを取得\n",
    "def extract_text_from_pdf(filepath):\n",
    "    with open(filepath, \"rb\") as file:\n",
    "        reader = PdfReader(file)\n",
    "        text = \"\"\n",
    "        for page_num in range(len(reader.pages)):\n",
    "            page = reader.pages[page_num]\n",
    "            text += page.extract_text()\n",
    "    return text\n",
    "# 取得データをテキストデータとして保存\n",
    "def write_text_to_txt(text, output_filepath):\n",
    "    with open(output_filepath, \"w\", encoding=\"utf-8\") as file:\n",
    "        file.write(text)\n",
    "\n",
    "#実行文\n",
    "text_data = extract_text_from_pdf(file_path)\n",
    "#print(text_data)\n",
    "write_text_to_txt(text_data, output_filepath)\n",
    "\n",
    "\n",
    "# 対象のコードはここまで\n",
    "\"\"\"\n",
    "\"\"\"\n",
    "#langchainの機能を使う場合\n",
    "# ドキュメントの読み込み\n",
    "with open(output_filepath) as f:\n",
    "    read_txt = f.read()\n",
    "text_splitter = CharacterTextSplitter(\n",
    "    chunk_size=300, \n",
    "    chunk_overlap=0, \n",
    "    separator=\"\\n\"\n",
    ")\n",
    "texts = text_splitter.split_text(read_txt) # ＜ー 今後の対象データをtextsに変更する必要あり\n",
    "print(len(texts))\n",
    "print(texts)\n",
    "\"\"\"\n"
   ]
  },
  {
   "cell_type": "code",
   "execution_count": 82,
   "metadata": {},
   "outputs": [],
   "source": [
    "#今回は自身でchunkingの上手い手法が実現できなかったため、以下を使用\n",
    "import pandas as pd\n",
    "\n",
    "chunk_data = []\n",
    "\n",
    "# テキストデータを読み込む\n",
    "with open(output_filepath, \"r\", encoding=\"utf-8\") as file:\n",
    "    data_text = file.read()\n",
    "\n",
    "# 各行を\"---------------------------------\"で分割\n",
    "data_list = data_text.split('---------------------------------')\n",
    "\n",
    "# データフレームに変換\n",
    "data_df = pd.DataFrame(data_list, columns=['chunk'])\n",
    "# data_dfの各カラムから'\\n'を削除\n",
    "data_df['chunk'] = data_df['chunk'].str.replace('\\n', '')\n",
    "\n",
    "# 結果の表示\n",
    "#print(data_df)"
   ]
  },
  {
   "cell_type": "code",
   "execution_count": 83,
   "metadata": {},
   "outputs": [
    {
     "name": "stdout",
     "output_type": "stream",
     "text": [
      "55年ぶりに国がつくった新しい大学制度によって生まれた、職業に直結した教育を行う専門職大学。プロフェッショナルになるために必要な知識と理論、そして実践的なスキルを身につけることができます。卒業時には専門職の「学位」が取得できます。東京国際工科専門職大学では、「プロフェッショナル」とは単に専門職に従事する人というだけではなく、その専門職における高い「職能」と「意識」を持ち、新しいイノベーションを生み出す人材を指しています。\n"
     ]
    },
    {
     "data": {
      "text/plain": [
       "'\\n出力）55年ぶりに国がつくった新しい大学制度によって生まれた、職業に直結した教育を行う専門職大学。プロフェッショナルになるために必要な知識と理論、そして実践的なスキルを身につけることができます。卒業時には専門職の「学位」が取得できます。東京国際工科専門職大学では、「プロフェッショナル」とは単に専門職に従事する人というだけではなく、その専門職における高い「職能」と「意識」を持ち、新しいイノベーションを生み出す人材を指しています。\\n'"
      ]
     },
     "execution_count": 83,
     "metadata": {},
     "output_type": "execute_result"
    }
   ],
   "source": [
    "print(data_df['chunk'][1])\n",
    "\n",
    "\"\"\"\n",
    "出力）55年ぶりに国がつくった新しい大学制度によって生まれた、職業に直結した教育を行う専門職大学。プロフェッショナルになるために必要な知識と理論、そして実践的なスキルを身につけることができます。卒業時には専門職の「学位」が取得できます。東京国際工科専門職大学では、「プロフェッショナル」とは単に専門職に従事する人というだけではなく、その専門職における高い「職能」と「意識」を持ち、新しいイノベーションを生み出す人材を指しています。\n",
    "\"\"\""
   ]
  },
  {
   "cell_type": "markdown",
   "metadata": {},
   "source": [
    "## In / Out層の作成"
   ]
  },
  {
   "cell_type": "markdown",
   "metadata": {},
   "source": [
    "検索用データベースの作成\n",
    "\n",
    "(ベクターストアを使いたかったが、予算が無いため今回はエクセル)"
   ]
  },
  {
   "cell_type": "code",
   "execution_count": 8,
   "metadata": {},
   "outputs": [],
   "source": [
    "import pandas as pd\n",
    "\n",
    "output_filename = out_path+'/database.xlsx'\n",
    "#data_df.to_excel(output_filename, index=False)"
   ]
  },
  {
   "cell_type": "markdown",
   "metadata": {},
   "source": [
    "※ 今回はエクセルに各チャンクのラベルをエクセルに書きこみ、事前に割り振った"
   ]
  },
  {
   "cell_type": "code",
   "execution_count": 54,
   "metadata": {},
   "outputs": [
    {
     "name": "stdout",
     "output_type": "stream",
     "text": [
      "                                                chunk                    label\n",
      "0   現代社会の課題は多様な要素が複雑に絡み合い、しかも常に変化しています。その解決には、単一の専...                       使命\n",
      "1   55年ぶりに国がつくった新しい大学制度によって生まれた、職業に直結した教育を行う専門職大学。...                    専門職大学\n",
      "2   学びが行き届く 「少人数教育」原則40人以下で行う少人数授業が、専門職大学の特長。本学ではさ...                       特徴\n",
      "3   実践を学べる「実務家教員」 教員の４割以上は企業等で実務を経験した「実務家教員」特に本学では...                       特徴\n",
      "4   ビジネスの最前線「企業内実習」 一般的な大学で行われている短期の就業体験・インターンシップと...                       特徴\n",
      "5   授業全体での「実習・実技の割合」理論と実践の双方を重視するため、卒業に必要な単位のうち、1/...                       特徴\n",
      "6   ビジネスの現場で培う高度な実践力 産業界との連携が強く、ビジネスの実情に即して授業内容の改善...                       特徴\n",
      "7   工科学部・情報工学科 AI戦略コース 人工知能の理論から、実装のためのプログラミング技術まで...                      コース\n",
      "8   自動車の「自動運転」や過去の検索キーワードを元に候補をあげる「予測変換」の事例のように、ビッ...                       育成\n",
      "9   目指せる将来像 AIエンジニア（システム開発、ソフトウェア開発等） ITコンサルタント デー...                       将来\n",
      "10                             授与される学位は情報工学士(専門職)である。                       学位\n",
      "11                                       情報工学科の４年間の学び                       学び\n",
      "12     １年次体験的な学びからスタートし、ＩＣＴの基本をマスター　― 実践的イントロダクション ―               [\"学び\",\"1年\"]\n",
      "13  従来の大学教育では一般的に理論を先に学びますが、「実践を重視」する本学では、1年次前期に、実...              [\"学び\",\"1年\"]\n",
      "14        ２年次コース別のカリキュラムスタート　― 「エンジニアリングスキル」を身につける ―               [\"学び\",\"2年\"]\n",
      "15  コースに分かれて専門的な知識・技能を養います。本学では現実的な課題に取り組む「課題解決型学習...              [\"学び\",\"2年\"]\n",
      "16    ３年次専門知識・技能のレベルアップ　― 「テクノロジー実践力」と「ビジネスセンス」を磨く ―                        3年\n",
      "17  実務レベルの高度な理論や技術をマスターしていきます。2年次からスタートしている「臨地実務実習...                       3年\n",
      "18              ４年次応用力と総合力を備えた人材へ　― デジタル社会で広がる活躍の場 ―               [\"学び\",\"4年\"]\n",
      "19  「卒業研究制作」を中心に、4年間の学びの集大成となる1年間です。ICTが飛躍的に進化するこれ...              [\"学び\",\"4年\"]\n",
      "20                                    デザインエンジニアリング概論   [\"授業\",\"デザインエンジニアリング概論\"]\n",
      "21  “Designer in Society”の核となる、デザインエンジニアリングの概念およびそ...  [\"授業\",\"デザインエンジニアリング概論\"]\n",
      "22                                      ソリューション開発Ⅰ・Ⅱ        [\"授業\",\"ソリューション開発\"]\n",
      "23  協力企業・団体から提供される実践的な課題をもとに、チームでソリューション（解決策）を考案し、...       [\"授業\",\"ソリューション開発\"]\n",
      "24                                     人工知能システム開発Ⅰ・Ⅱ         [\"授業\",\"人工知能システム\"]\n",
      "25  2年次前期、3年次前期の実習科目です。人工知能のシステム開発の専門知識と高度なスキルを身につ...                 人工知能システム\n",
      "26                                               深層学習            [\"授業\",\"深層学習\"]\n",
      "27  深層学習(Deep Learning) の主要技術であるニューラルネットワークの技術内容とそ...            [\"授業\",\"深層学習\"]\n",
      "28    情報の参考元となるサイトは「https://www.iput.ac.jp/tokyo/」です。                      参考元\n"
     ]
    }
   ],
   "source": [
    "import pandas as pd\n",
    "\n",
    "input_filename = out_path+'/database.xlsx'\n",
    "\n",
    "data_df = pd.read_excel(input_filename)\n",
    "print(data_df)"
   ]
  },
  {
   "cell_type": "markdown",
   "metadata": {},
   "source": [
    "質問内容のゼロショット分類\n",
    "\n",
    "-> label_dataはチャンクのラベルに対応する"
   ]
  },
  {
   "cell_type": "code",
   "execution_count": 79,
   "metadata": {},
   "outputs": [
    {
     "name": "stderr",
     "output_type": "stream",
     "text": [
      "No model was supplied, defaulted to facebook/bart-large-mnli and revision c626438 (https://huggingface.co/facebook/bart-large-mnli).\n",
      "Using a pipeline without specifying a model name and revision in production is not recommended.\n"
     ]
    },
    {
     "name": "stdout",
     "output_type": "stream",
     "text": [
      "Predicted Label: 将来\n"
     ]
    }
   ],
   "source": [
    "from transformers import pipeline\n",
    "\n",
    "# 分類器を初期化します。\n",
    "classifier = pipeline('zero-shot-classification')\n",
    "\n",
    "# 分類するテキストとカテゴリを定義します。\n",
    "query = input(\"質問：\")# <- ユーザーの質問 （クエリ）\n",
    "label_data = ['参考', '学位', 'コース','専門職大学','特徴','将来',\"3年\",\"使命\",\n",
    "              #[\"専門職大学\",\"使命\"],[\"学び\",\"1年\"],[\"学び\",\"2年\"],[\"学び\",\"3年\"],[\"学び\",\"4年\"],\n",
    "              #[\"授業\",\"デザインエンジニアリング概論\"],[\"授業\",\"ソリューション開発\"],[\"授業\",\"人工知能システム\"],[\"授業\",\"深層学習\"]\n",
    "             ]\n",
    "\n",
    "# テキストを分類します。\n",
    "result = classifier(query, label_data)\n",
    "#print(result)\n",
    "\n",
    "# 最もスコアの高かったラベルを取得\n",
    "max_score_index = result['scores'].index(max(result['scores']))\n",
    "predict_label = result['labels'][max_score_index]\n",
    "\n",
    "print(\"Predicted Label:\", predict_label)"
   ]
  },
  {
   "cell_type": "markdown",
   "metadata": {},
   "source": [
    "分類に基づくchunkデータの収集"
   ]
  },
  {
   "cell_type": "code",
   "execution_count": 80,
   "metadata": {},
   "outputs": [
    {
     "name": "stdout",
     "output_type": "stream",
     "text": [
      "目指せる将来像 AIエンジニア（システム開発、ソフトウェア開発等） ITコンサルタント データアナリスト 企業（IT系、製造メーカー、自動車メーカー、総合商社、金融等） 官公庁…をはじめ、分野を超えて次世代産業を担う新しい人材を目指せます。\n"
     ]
    }
   ],
   "source": [
    "# combine_txtを初期化\n",
    "combine_txt = []\n",
    "\n",
    "# data_dfの各行に対してループを回す\n",
    "for index, row in data_df.iterrows():\n",
    "    # \"label\"がpredict_labelの要素のいずれかと一致する場合、\"chunk\"の値をcombine_txtに追加\n",
    "    if row[\"label\"] == predict_label:\n",
    "        combine_txt.append(row[\"chunk\"])\n",
    "\n",
    "# combine_txtがリストである場合、それを結合して1つの文字列にする\n",
    "result_text = ' '.join(combine_txt)\n",
    "\n",
    "# 結果の表示\n",
    "print(result_text)\n"
   ]
  },
  {
   "cell_type": "code",
   "execution_count": null,
   "metadata": {},
   "outputs": [],
   "source": [
    "\"\"\"\n",
    "# combine_txtを初期化\n",
    "combine_txt = []\n",
    "# predict_labelとdf_data[\"label\"]が一致する場合、同列のdf_data[\"chunk\"]を取得し、combine_txtに引き渡す\n",
    "for i, label in enumerate(data_df[\"label\"]):\n",
    "   if label in predict_label:\n",
    "       combine_txt.append(data_df[\"chunk\"].iloc[i])\n",
    "\n",
    "# combine_txtを結合して1つの文字列にする\n",
    "result_text = ' '.join(combine_txt)\n",
    "\n",
    "# 結果の表示\n",
    "print(result_text)\n",
    "\"\"\""
   ]
  },
  {
   "cell_type": "markdown",
   "metadata": {},
   "source": [
    "ユーザーの質問に対して類似文書を検索(改善前)"
   ]
  },
  {
   "cell_type": "code",
   "execution_count": 81,
   "metadata": {},
   "outputs": [
    {
     "name": "stdout",
     "output_type": "stream",
     "text": [
      "「卒業研究制作」を中心に、4年間の学びの集大成となる1年間です。ICTが飛躍的に進化するこれからの時代、AI、IoT、ロボットの新しい技術を活用できる人材やデータマネジメントを的確に行える人材の活躍の場は、産業界全体に広がります。本学で、理論と実践、学問と実務の双方を身につけることで、多様化・複雑化する社会の課題を解決し社会が求めるイノベーションを生み出せる「新しい人材」に成長していきます。\n"
     ]
    }
   ],
   "source": [
    "# 類似文章の検索\n",
    "All_txt = data_df[\"chunk\"]\n",
    "docsearch = FAISS.from_texts(All_txt, embeddings)\n",
    "docs = docsearch.similarity_search(query, k=1)\n",
    "reference_text = docs[0].page_content\n",
    "print(reference_text)"
   ]
  },
  {
   "cell_type": "markdown",
   "metadata": {},
   "source": [
    "ユーザーの質問に対して類似文書を検索(改善後)\n",
    "\n",
    "-> 当項目にて「質問内容のゼロショット分類」に続き実行する。"
   ]
  },
  {
   "cell_type": "code",
   "execution_count": 86,
   "metadata": {},
   "outputs": [
    {
     "name": "stdout",
     "output_type": "stream",
     "text": [
      "目指せる将来像 AIエンジニア（システム開発、ソフトウェア開発等） ITコンサルタント データアナリスト 企業（IT系、製造メーカー、自動車メーカー、総合商社、金融等） 官公庁…をはじめ、分野を超えて次世代産業を担う新しい人材を目指せます。\n"
     ]
    }
   ],
   "source": [
    "#query = \"\"\n",
    "\n",
    "# 類似文章の検索\n",
    "docsearch = FAISS.from_texts(combine_txt, embeddings)\n",
    "docs = docsearch.similarity_search(query, k=1)\n",
    "reference_text = docs[0].page_content\n",
    "print(reference_text)\n"
   ]
  },
  {
   "cell_type": "markdown",
   "metadata": {},
   "source": [
    "HyDEを用いて文書生成"
   ]
  },
  {
   "cell_type": "code",
   "execution_count": 87,
   "metadata": {},
   "outputs": [
    {
     "name": "stdout",
     "output_type": "stream",
     "text": [
      "\n",
      "学生たちは卒業後、AIエンジニアやITコンサルタント、データアナリストなど、様々な職種を目指すことができます。また、IT系や製造メーカー、自動車メーカー、総合商社、金融など、さまざまな企業や官公庁で活躍することができます。将来の次世代産業を担う新しい人材として、多様な分野で活躍することができるでしょう。\n"
     ]
    }
   ],
   "source": [
    "# 質問応答の実行\n",
    "from langchain.chains.question_answering import load_qa_chain\n",
    "chain = load_qa_chain(OpenAI(), chain_type=\"stuff\")\n",
    "out_put = chain({\"input_documents\": docs, \"question\": query}, return_only_outputs=True)\n",
    "generated_text = out_put.get('output_text', '')\n",
    "print(generated_text)"
   ]
  },
  {
   "cell_type": "markdown",
   "metadata": {},
   "source": [
    "## BLEUスコア"
   ]
  },
  {
   "cell_type": "markdown",
   "metadata": {},
   "source": [
    "テキストを分かち書きする"
   ]
  },
  {
   "cell_type": "code",
   "execution_count": 88,
   "metadata": {},
   "outputs": [
    {
     "name": "stdout",
     "output_type": "stream",
     "text": [
      "目 指せる 将来 像   AI エンジニア （ システム 開発 、 ソフトウェア 開発 等 ）   IT コンサルタント   データ アナリスト   企業 （ IT 系 、 製造 メーカー 、 自動車 メーカー 、 総合 商社 、 金融 等 ）   官公庁 … を はじめ 、 分野 を 超え て 次世代 産業 を 担う 新しい 人材 を 目指せ ます 。\n",
      "------------------------------\n",
      "学生 たち は 卒業 後 、 AI エンジニア や IT コンサルタント 、 データ アナリスト など 、 様々 な 職種 を 目指す こと が でき ます 。 また 、 IT 系 や 製造 メーカー 、 自動車 メーカー 、 総合 商社 、 金融 など 、 さまざま な 企業 や 官公庁 で 活躍 する こと が でき ます 。 将来 の 次世代 産業 を 担う 新しい 人材 として 、 多様 な 分野 で 活躍 する こと が できる でしょ う 。\n",
      "------------------------------\n",
      "卒業 後 の 学生 の 将来 について\n"
     ]
    }
   ],
   "source": [
    "from janome.tokenizer import Tokenizer\n",
    "\n",
    "def text_wakati(text):\n",
    "    if isinstance(text, list):\n",
    "        # リストが渡された場合、要素を結合して文字列に変換\n",
    "        text = ' '.join(text)\n",
    "    # 分かち書きを行うためのTokenizerオブジェクトを作成します。\n",
    "    tokenizer = Tokenizer()\n",
    "\n",
    "    # 文を分かち書きします。\n",
    "    tokens = tokenizer.tokenize(text)\n",
    "\n",
    "    # 分かち書きした結果を空白で結合します。\n",
    "    words = ' '.join([token.surface for token in tokens])\n",
    "    return words\n",
    "\n",
    "refer_wakati = text_wakati(reference_text)\n",
    "print(refer_wakati)\n",
    "print(\"-\"*30)\n",
    "gen_wakati = text_wakati(generated_text)\n",
    "print(gen_wakati)\n",
    "print(\"-\"*30)\n",
    "query_wakati = text_wakati(query)\n",
    "print(query_wakati)"
   ]
  },
  {
   "cell_type": "code",
   "execution_count": 89,
   "metadata": {},
   "outputs": [
    {
     "name": "stdout",
     "output_type": "stream",
     "text": [
      "元データと再生成物:  0.4762144802403423\n",
      "質問と元データ:  0.01735340376625691\n",
      "質問と再生成物:  0.03427337195589524\n"
     ]
    }
   ],
   "source": [
    "import nltk\n",
    "from nltk.translate.bleu_score import sentence_bleu\n",
    "\n",
    "# BLEUスコアを計算します。\n",
    "rg_score = sentence_bleu([refer_wakati], gen_wakati)\n",
    "print('元データと再生成物: ', rg_score)\n",
    "\n",
    "qr_score = sentence_bleu([query_wakati], refer_wakati)\n",
    "print('質問と元データ: ', qr_score)\n",
    "\n",
    "qg_score = sentence_bleu([query_wakati], gen_wakati)\n",
    "print('質問と再生成物: ', qg_score)"
   ]
  },
  {
   "attachments": {
    "image.png": {
     "image/png": "[encoded data removed]"
    }
   },
   "cell_type": "markdown",
   "metadata": {},
   "source": [
    "## ＜結果＞\n",
    "![image.png](attachment:image.png)\n",
    "\n",
    "Zero Shotモデルによる検索対象の絞り込みにより関連情報を事前に検索し情報に偏向性を持たせることでHyDEモデルの改善ができると考え、学習ステップに時間をかけず簡易的な実装を試みたが、部分的にHyDEモデル単体よりも元文書と類似性の高い結果を得られたが、かえって低いケースも出てしまった。"
   ]
  },
  {
   "cell_type": "markdown",
   "metadata": {},
   "source": [
    "---"
   ]
  },
  {
   "cell_type": "markdown",
   "metadata": {},
   "source": [
    "# 以下は対象外"
   ]
  },
  {
   "cell_type": "markdown",
   "metadata": {},
   "source": [
    "## 実験用"
   ]
  },
  {
   "cell_type": "code",
   "execution_count": 116,
   "metadata": {},
   "outputs": [],
   "source": [
    "import pandas as pd\n",
    "from langchain.chains.question_answering import load_qa_chain\n",
    "from transformers import pipeline\n",
    "import nltk\n",
    "from nltk.translate.bleu_score import sentence_bleu\n",
    "\n",
    "input_filename = out_path+'/database.xlsx'\n",
    "data_df = pd.read_excel(input_filename)\n",
    "\n",
    "def search_byExel(txt):\n",
    "    docsearch = FAISS.from_texts(txt, embeddings)\n",
    "    docs = docsearch.similarity_search(query, k=1)\n",
    "    return docs\n",
    "\n",
    "def search_byZero():\n",
    "    docsearch = FAISS.from_texts(combine_txt, embeddings)\n",
    "    docs = docsearch.similarity_search(query, k=1)\n",
    "    return docs\n",
    "\n",
    "def generate_txt(text):\n",
    "    chain = load_qa_chain(OpenAI(), chain_type=\"stuff\")\n",
    "    out_put = chain({\"input_documents\": text, \"question\": query}, return_only_outputs=True)\n",
    "    generated_text = out_put.get('output_text', '')\n",
    "    return generated_text"
   ]
  },
  {
   "cell_type": "code",
   "execution_count": 113,
   "metadata": {},
   "outputs": [],
   "source": [
    "def remove_separator(text):\n",
    "    # 指定された文字列を削除\n",
    "    modified_text = text.replace('---------------------------------', '')\n",
    "    return modified_text\n",
    "\n",
    "# テキストデータを読み込む\n",
    "with open(output_filepath, \"r\", encoding=\"utf-8\") as file:\n",
    "    data_text = file.read()\n",
    "about_text = data_text\n",
    "# 区切り線を削除したテキストを取得\n",
    "modified_text = remove_separator(about_text)\n",
    "# 結果の表示\n",
    "#print(modified_text)\n"
   ]
  },
  {
   "cell_type": "code",
   "execution_count": null,
   "metadata": {},
   "outputs": [],
   "source": [
    "# 分類器を初期化します。\n",
    "classifier = pipeline('zero-shot-classification')\n",
    "\n",
    "\n",
    "#zero-shot\n",
    "query = \"専門職大学の使命について\"# <- ユーザーの質問 （クエリ）\n",
    "label_data = ['参考', '学位', 'コース','専門職大学','特徴','コース','将来',\n",
    "              [\"専門職大学\",\"使命\"],[\"学び\",\"1年\"],[\"学び\",\"2年\"],[\"学び\",\"3年\"],[\"学び\",\"4年\"],\n",
    "              [\"授業\",\"デザインエンジニアリング概論\"],[\"授業\",\"ソリューション開発\"],[\"授業\",\"人工知能システム\"],[\"授業\",\"深層学習\"]\n",
    "             ]\n",
    "result = classifier(query, label_data)\n",
    "max_score_index = result['scores'].index(max(result['scores']))\n",
    "predict_label = result['labels'][max_score_index]\n",
    "combine_txt = []\n",
    "for index, row in data_df.iterrows():\n",
    "    if row[\"label\"] in predict_label:\n",
    "        combine_txt.append(row[\"chunk\"])\n",
    "result_text = ' '.join(combine_txt)\n",
    "\n",
    "#Serch (reference_text)\n",
    "E_reference_text = search_byExel(modified_text)\n",
    "p_Er_text = E_reference_text[0].page_content #Blueに使用\n",
    "Z_reference_text = search_byZero()\n",
    "p_Ze_text = Z_reference_text[0].page_content #Blueに使用\n",
    "\n",
    "#generate\n",
    "E_generate_text = generate_txt(E_reference_text) #Blueに使用\n",
    "Z_generate_text = generate_txt(Z_reference_text) #Blueに使用\n",
    "\n",
    "#----------------------------------------------------------------\n",
    "# wakati\n",
    "E_refer_wakati = text_wakati(E_reference_text)\n",
    "E_gen_wakati = text_wakati(E_generate_text)\n",
    "Z_refer_wakati = text_wakati(Z_reference_text)\n",
    "Z_gen_wakati = text_wakati(Z_generate_text)\n",
    "query_wakati = text_wakati(query)\n",
    "\n",
    "#score\n",
    "# byExel\n",
    "E_rg_score = sentence_bleu([E_refer_wakati], E_gen_wakati)\n",
    "E_qr_score = sentence_bleu([query_wakati], E_refer_wakati)\n",
    "E_qg_score = sentence_bleu([query_wakati], E_gen_wakati)\n",
    "print(\"by Exel:\",E_rg_score,\",\",E_qr_score,\",\",E_qg_score)\n",
    "# byZero\n",
    "Z_rg_score = sentence_bleu([Z_refer_wakati], Z_gen_wakati)\n",
    "Z_qr_score = sentence_bleu([query_wakati], Z_refer_wakati)\n",
    "Z_qg_score = sentence_bleu([query_wakati], Z_gen_wakati)\n",
    "print(\"by Zero:\",Z_rg_score,\",\",Z_qr_score,\",\",Z_qg_score)"
   ]
  },
  {
   "cell_type": "markdown",
   "metadata": {},
   "source": [
    "## chunkingを自動化\n",
    "-> 卒論レベルのことなので、期間中に実装できず断念"
   ]
  },
  {
   "cell_type": "markdown",
   "metadata": {},
   "source": [
    "各チャンクデータを要約"
   ]
  },
  {
   "cell_type": "code",
   "execution_count": 43,
   "metadata": {},
   "outputs": [
    {
     "name": "stdout",
     "output_type": "stream",
     "text": [
      "要約対象\n",
      " 現代社会の課題は多様な要素が複雑に絡み合い、しかも常に変化しています。その解決には、単一の専門分野の知識＜静的な専門知＞だけでは困難です。だからこそ私たちは、既存の諸学問の壁を超えて専門分野を横断し、現場の実践で得られた知見や最新テクノロジーを統合的に駆使した＜動的な創造知＞を目指します。そのために、学生と教員が一体となって探究し、産業界や地域、世界の人々と協働する。理論と実践を武器に新たな価値を創造し、より良い未来を創るために必要な力を共に育む。そして、多様で複雑な社会課題に立ち向かう“Designer in Society（社会とともにあるデザイナー）”を世に送り出す。これが、これからの時代に対応する新大学としての、私たち東京国際工科専門職大学の使命です。 \n",
      "\n",
      "現代社会の課題はますます複雑化しており、解決には単一の専門分野の知識だけでは不十分です。そのため、私たちは既存の学問の壁を越えて、様々な知識やスキルを統合したアプローチを取る必要があります。\n",
      "\n",
      "私たちの大学では、学生と教員が一体となって、実践や最新のテクノロジーを活用しながら、探究しています。また、産業界や地域、世界の人々との協働を通じて、理論と実践を結びつけ、新たな価値を創造しています。\n",
      "\n",
      "これまでの大学とは異なり、「Designer in Society」というコンセプトのもと、社会とともにあるデザイナーを育成することを目指しています。私たちは、デザインの力を活用して、多様で複雑な社会課題に立ち向かうことができる人材を育成することを使命としています。\n",
      "\n",
      "私たちの目標は、より良い未来を創るために必要な力を備えた人材を育成し、社会へ送り出すことです。これからの時代に求められる新しい大学として、私たちは常に進化し続けるよう努めています。\n",
      "------------------------------\n",
      "要約対象\n",
      " 55年ぶりに国がつくった新しい大学制度によって生まれた、職業に直結した教育を行う専門職大学。プロフェッショナルになるために必要な知識と理論、そして実践的なスキルを身につけることができます。卒業時には専門職の「学位」が取得できます。東京国際工科専門職大学では、「プロフェッショナル」とは単に専門職に従事する人というだけではなく、その専門職における高い「職能」と「意識」を持ち、新しいイノベーションを生み出す人材を指しています。 \n",
      "\n",
      "この大学は、産業界や社会のニーズに応えるために、産学連携や実務教育に力を入れています。そのため、学生は実際の現場での実習やプロジェクト活動を通じて、実践的なスキルや知識を身につけることができます。また、企業や団体との連携も強力であり、ネットワーキングなどの機会も豊富です。\n",
      "\n",
      "この専門職大学では、学生一人ひとりに対してカリキュラムをカスタマイズすることができます。そのため、自分の興味や将来のキャリアに合わせた専門分野を深く学ぶことができます。また、学生同士でのグループワークやプレゼンテーションなども積極的に行われており、コミュニケーション能力やリーダーシップ能力の向上にも役立ちます。\n",
      "\n",
      "さらに、この専門職大学では留学プログラムや国際交流も充実しています。世界中の大学とパートナーシップを結んでおり、学生は外国人教員や留学生との交流を通じて国際的な視野を広げることができます。また、日本国内でも様々な地域との連携が行われており、地域振興や地域課題の解決にも貢献しています。\n",
      "\n",
      "東京国際工科専門職大学は、産業界や社会のニーズに応えるプロフェッショナルな人材を育成するための教育機関です。学生は専門分野における知識とスキルを身につけ、自分自身の成長と社会貢献を実現することができるでしょう。\n",
      "------------------------------\n",
      "要約対象\n",
      " 学びが行き届く 「少人数教育」原則40人以下で行う少人数授業が、専門職大学の特長。本学ではさらに学生約10人を1グループとして担当教員がつく「完全担任制度」を採用。学修から進路指導まで、きめ細やかにサポート。対話や議論もしやすい学びの環境です。 \n",
      "\n",
      "少人数教育は、学生一人ひとりの理解度や進捗状況を把握しやすくすることができるため、学びがより効果的に行われます。また、担当教員が学生の個別のニーズに合わせたサポートやアドバイスを行うことができるため、より充実した学修ができます。\n",
      "\n",
      "さらに、完全担任制度を採用していることで、学生は一人の担当教員によるきめ細やかなサポートを受けることができます。これによって、学生の学習進捗や進路に関する相談なども、より密接に対応することが可能となります。\n",
      "\n",
      "少人数授業の環境では、学生同士や学生と教員の間で対話や議論が活発に行われることも特長です。学生は自分の意見を積極的に発言することが求められるため、主体的な学びを進めることができます。\n",
      "\n",
      "このような学びの環境において、学生は自ら考え、問題解決能力やコミュニケーション能力を養うことができます。また、教員との関係性が密接であるため、進路指導やキャリアサポートなども個別に行われることが期待できます。\n",
      "\n",
      "少人数教育の利点を活かした学びの環境は、学生の成果を最大限に引き出すことができます。専門職大学においては、実践的な教育が求められるため、少人数教育がより重要な役割を果たしています。\n",
      "------------------------------\n",
      "要約対象\n",
      " 実践を学べる「実務家教員」 教員の４割以上は企業等で実務を経験した「実務家教員」特に本学では、名だたる企業で活躍した経験を持つエキスパートが、専任としての指導を担当。日々の学びの中で、世界や業界の最前線の知識・技能を修得できます。 \n",
      "\n",
      "こうした実務家教員による指導は、学生にとって大きなメリットがあります。まず、実務家教員は企業での現場経験を持っているため、実際の業務や仕事の流れを具体的に理解しています。これにより、教科書だけでは得られない実践的な知識やスキルを学ぶことができます。\n",
      "\n",
      "また、実務家教員は最新のトレンドや技術にも詳しい傾向があります。企業での経験を持つために、業界や市場の動向を把握しており、最新の情報を学生に提供することができます。これにより、学生は卒業後の就職やキャリア形成に役立つ知識を得ることができます。\n",
      "\n",
      "さらに、実務家教員は実務の現場での人脈やネットワークを持っていることが多いです。これにより、学生は業界で働く上で有用なつながりやコネクションを作ることができます。また、企業との連携やインターンシップなどの機会も増えるため、学生は実践的な経験を積むことができます。\n",
      "\n",
      "実務家教員は、学生にとって貴重な存在です。彼らは実際の現場での経験を持っているため、教室内での学びとは異なる視点や知識を提供してくれます。これにより、学生は実務に近い形での学びを体験することができます。実際の業務での経験や実践的な知識は、卒業後の就職やキャリア形成に大いに役立ちます。そのため、実務家教員による指導は非常に重要な存在です。\n",
      "------------------------------\n",
      "要約対象\n",
      " ビジネスの最前線「企業内実習」 一般的な大学で行われている短期の就業体験・インターンシップとはまったく異なる企業内実習は、総期間16週間以上、実働600時間以上。ビジネスの現場で実際の業務や課題解決に取り組み、高いスキルと実践力を修得します。 \n",
      "\n",
      "企業内実習は、一般的な大学で行われている短期の就業体験・インターンシップとは異なり、長期間かつ本格的な実務経験を積むことができるプログラムです。総期間は16週間以上、実働時間は通常600時間以上となっています。\n",
      "\n",
      "この企業内実習では、学生は実際のビジネスの現場で業務に取り組みます。例えば、会計や財務、マーケティング、人事、生産管理などの部署で実際の仕事を経験することができます。また、課題解決やプロジェクトの推進などにも取り組むことがあります。\n",
      "\n",
      "企業内実習の最大の特徴は、高いスキルと実践力を修得することができることです。短期の就業体験では、一部の業務に限られてしまう場合がありますが、企業内実習では幅広い業務に携わり、実際の問題に対して解決策を検討し、実際に導入することができます。これにより、現場での実践的なスキルや経験を身につけることができます。\n",
      "\n",
      "また、企業内実習は、就職活動においても有利な要素となります。企業は、実際の業務経験を積んだ学生を採用することで、すぐに仕事に活かすことができる人材を求めています。企業内実習で得たスキルや経験をアピールすることで、自己PRにもつなげることができます。\n",
      "\n",
      "企業内実習は、学生にとっては非常に貴重な経験となります。実際のビジネスの現場での経験を通じて、自身のスキルや能力を向上させることができるだけでなく、将来のキャリアについても具体的なイメージを持つことができます。\n",
      "------------------------------\n",
      "要約対象\n",
      " 授業全体での「実習・実技の割合」理論と実践の双方を重視するため、卒業に必要な単位のうち、1/3以上は、実習・実技の授業となっています。豊富な実習・実技を通じて、広い視野と知見を身につけ、実践力と創造力を磨けます。 \n",
      "\n",
      "その結果、卒業生は実務において優れたパフォーマンスを発揮できるだけでなく、問題解決やイノベーションの能力も備えています。また、実習・実技の授業は、現場の専門家や業界のリーダーとの連携を通じて行われることもあります。これにより、学生はより実践的な経験を積むことができます。\n",
      "\n",
      "また、実習・実技の割合を高くすることで、学生の自己成長と自己啓発の機会も増えます。実際に手を動かし、実際の問題に取り組むことで、学生は自身の能力を高めることができます。さらに、実習・実技の授業は、マルチメディアやプロジェクトベースのアプローチを取ることが多く、学生は実際の仕事のような環境でグループで協力しながら取り組むことができます。\n",
      "\n",
      "実習・実技の授業は、特に校外での実習やインターンシップなど、実際の職場に近い環境で経験を積むこともあります。これにより、学生は社会的なスキルや職業に関する知識を身につけるだけでなく、業界や職場の特徴やニーズにも理解を深めることができます。\n",
      "\n",
      "実習・実技の授業は、学生にとって重要な経験の一つです。豊富な実習・実技を通じて、学生は自身のスキルや能力を発展させ、将来のキャリアに備えることができます。授業の中で身につけた知識と経験を活かして、学生は自分自身の目標や夢を追求し、実現することができるでしょう。\n",
      "------------------------------\n",
      "要約対象\n",
      " ビジネスの現場で培う高度な実践力 産業界との連携が強く、ビジネスの実情に即して授業内容の改善を積極的に行う環境が整っています。 \n",
      "\n",
      "また、産業界との連携が強いため、企業からの実践的な案件や課題を学生が扱う機会も多くあります。これにより、ビジネスの実情に即した知識やスキルを身につけることができます。\n",
      "\n",
      "さらに、学生同士のグループワークやプロジェクト活動を通じて、チームワークやコミュニケーション能力も高めることができます。ビジネスの現場ではチームでの仕事が多いため、これらの能力は重要です。\n",
      "\n",
      "授業では、実際のビジネスシーンで必要なスキルや知識を習得するためのカリキュラムが組まれています。具体的には、ビジネスプレゼンテーションや交渉スキル、プロジェクトマネジメントなどが含まれます。これらのスキルは、ビジネスの現場で即戦力となる重要な要素です。\n",
      "\n",
      "研修やインターンシッププログラムなども充実しており、実践的な経験を積む機会も多いです。これらの経験を通じて、自身のビジネススキルをさらに高めることができます。\n",
      "\n",
      "さらに、産業界との連携によって、最新のビジネストレンドやテクノロジーを取り入れた授業を提供することができます。これにより、常に最先端のビジネススキルを身につけることができます。\n",
      "\n",
      "以上のように、ビジネスの現場で培う高度な実践力を身につけることができる環境が整っています。産業界との連携や実践的な授業内容の改善は、学生の就職・キャリア形成に大きく貢献します。\n",
      "------------------------------\n",
      "要約対象\n",
      " 工科学部・情報工学科 AI戦略コース 人工知能の理論から、実装のためのプログラミング技術までを段階的に学びます。 \n",
      "\n",
      "人工知能の理論やアルゴリズムの学習には、数学や統計学の基礎知識が必要です。線形代数や確率論、統計学の知識があると、機械学習や深層学習の理解が深まります。\n",
      "\n",
      "具体的な学習内容としては、以下のようなものがあります。\n",
      "\n",
      "1. 数学の基礎：線形代数、微分積分学、確率論などの基礎的な数学の知識が必要です。これらの知識を使って、機械学習のアルゴリズムを理解したり、データを解析したりすることができます。\n",
      "\n",
      "2. 機械学習：教師あり学習、教師なし学習、強化学習など、機械学習の基本的なアルゴリズムについて学びます。代表的なアルゴリズムとしては、k最近傍法、サポートベクターマシン、決定木、ランダムフォレスト、ニューラルネットワークなどがあります。\n",
      "\n",
      "3. ディープラーニング：深層学習とも呼ばれるディープラーニングは、多層ニューラルネットワークを用いた手法です。特に畳み込みニューラルネットワークやリカレントニューラルネットワークなど、画像認識や自然言語処理に応用されることが多いです。\n",
      "\n",
      "4. プログラミング技術：PythonやRなどのプログラミング言語を使って、実際にアルゴリズムを実装する技術が必要です。また、機械学習ライブラリやフレームワーク（例えば、scikit-learnやTensorFlow）の使用方法も学ぶことが重要です。\n",
      "\n",
      "5. データ処理技術：機械学習の前処理や特徴量エンジニアリング、モデル評価などのデータ処理技術も重要です。データのクレンジングや変換、特徴量の選択や生成など、データの品質向上や機械学習モデルの性能向上に役立ちます。\n",
      "\n",
      "6. 応用：実際の問題に対して機械学習やディープラーニングを適用し、解決方法を検討する応用力も重要です。例えば、画像認識や音声認識、自然言語処理、推薦システムなどの応用分野があります。\n",
      "\n",
      "上記のステップを順番に学びながら、機械学習やディープラーニングの理論を理解し、実際のデータに対してアルゴリズムを適用するためのプログラミング技術を身につけることがAI戦略コースの目標です。\n",
      "------------------------------\n",
      "要約対象\n",
      " 自動車の「自動運転」や過去の検索キーワードを元に候補をあげる「予測変換」の事例のように、ビッグデータから目的情報を学習・推論し、ユーザのニーズに適した新たなAI サービスをデザインできる人材を育成します。 \n",
      "\n",
      "このようなAIサービスのデザインを担当する人材に求められる能力は、以下の通りです。\n",
      "\n",
      "1. ビッグデータの分析能力：大量のデータから有用な情報を抽出し、傾向やパターンを見つける能力が必要です。統計学やデータマイニングの知識が役立ちます。\n",
      "\n",
      "2. 機械学習の知識：機械学習アルゴリズムやモデルを理解し、データから学習させることができる能力が求められます。また、適切な学習データの抽出や特徴量の設計も重要です。\n",
      "\n",
      "3. UXデザインの知識：AIサービスを使うユーザのニーズや要求を理解し、ユーザーインターフェースやユーザーエクスペリエンスを設計できる能力が必要です。ユーザの使いやすさや快適さを追求する視点が求められます。\n",
      "\n",
      "4. コミュニケーション能力：ビジネスや開発チームとのコラボレーションが必要なため、コミュニケーション能力が求められます。ビジネスニーズや技術要件を理解し、それに合わせたサービスを提供できる能力が重要です。\n",
      "\n",
      "5. プログラミングの知識：AIサービスの開発において、プログラミングの知識は欠かせません。特にPythonやRなどのデータサイエンス向けのプログラミング言語が必要です。加えて、データの前処理や可視化、モデルの実装などの技術も必要です。\n",
      "\n",
      "これらの能力を身につけるためには、データ分析や機械学習の基礎を学ぶことが第一歩です。大学のコンピュータサイエンスや統計学の専攻や修士課程での学習が役立ちます。さらに、実際の業務経験やオンラインの研修やコースなどで実践的なスキルを磨くことも重要です。また、AIサービスをデザインするためのUXデザインの知識やコミュニケーション能力を磨くために、関連する知識や技術を学ぶこともおすすめです。\n",
      "------------------------------\n",
      "要約対象\n",
      " 目指せる将来像 AIエンジニア（システム開発、ソフトウェア開発等） ITコンサルタント データアナリスト 企業（IT系、製造メーカー、自動車メーカー、総合商社、金融等） 官公庁…をはじめ、分野を超えて次世代産業を担う新しい人材を目指せます。 \n",
      "\n",
      "AIエンジニア（システム開発、ソフトウェア開発等）としては、AI技術を応用したシステムやソフトウェアの開発に携わることができます。人工知能や機械学習の技術を駆使しながら、課題解決や業務効率化を図ることができます。また、自動運転やロボット技術の進展に伴って、自動車メーカーや製造メーカーなどでもニーズが高まっています。\n",
      "\n",
      "ITコンサルタントとしては、企業や組織の業務改善やIT戦略の策定などに携わることができます。AI技術の活用やデジタルトランスフォーメーションの推進など、次世代技術を活用したビジネスの支援やコンサルティングを行えます。\n",
      "\n",
      "データアナリストとしては、ビッグデータの解析や可視化、予測分析などを行い、企業や組織の意思決定や戦略策定に貢献します。AI技術を活用し、膨大なデータから有益な情報を引き出し、ビジネスの最適化や競争力の向上を図ります。\n",
      "\n",
      "これらの職種は、AI技術の進展やデジタル化の進展にともない、ますます需要が高まる分野です。さまざまな業界や分野で活躍できるため、キャリアパスの幅も広がります。官公庁でもAI技術の導入が進んでおり、行政の効率化や公共の課題解決に貢献することも可能です。\n",
      "------------------------------\n",
      "要約対象\n",
      " 授与される学位は情報工学士(専門職)である。 \n",
      "\n",
      "情報工学士(専門職)は、情報工学における専門的な知識と技術を身につけ、現実の問題解決に応用できる能力を持つことを目指す学位です。この学位を取得するためには、大学などで情報工学に関する科目を履修し、卒業研究や実習などを通じて実践的な経験を積む必要があります。\n",
      "\n",
      "情報工学士(専門職)の学位は、情報システムの開発やデータの処理、ネットワークの構築など、情報技術を活用した幅広い分野でのキャリアを追求することができます。また、情報セキュリティや人工知能、ビッグデータなど、最新の情報技術のトレンドにも対応できるような知識やスキルを身につけることが求められます。\n",
      "\n",
      "情報工学士(専門職)の学位を持つことによって、企業や公共機関、研究機関などで情報技術を活用した仕事に就くことができる可能性が高まります。例えば、システムエンジニア、ソフトウェア開発者、データサイエンティスト、ネットワークエンジニアなどの職種が挙げられます。\n",
      "\n",
      "なお、学位取得には各大学が定める単位や研究の要件を満たす必要があります。具体的な取得条件は、学校によって異なる場合がありますので、大学のカリキュラムや入試選抜要項を参照する必要があります。また、学位取得後も情報工学の最新動向や技術の習得に努め、キャリアの成長と専門性の向上を図ることが求められます。\n",
      "------------------------------\n",
      "要約対象\n",
      " 情報工学科の４年間の学び \n",
      "\n",
      "情報工学科の４年間は、コンピューターサイエンスや情報技術に関する基礎知識や応用技術を学ぶことができる。以下は、主な学びやカリキュラムの内容の一例である。\n",
      "\n",
      "１年次：\n",
      "・プログラミング入門：プログラミングの基礎的な概念や技術を学び、C言語やJavaなどのプログラミング言語を習得する。\n",
      "・情報科学入門：情報科学の基礎知識や理論を学び、情報の表現方法や処理方法について深く理解する。\n",
      "・データ構造とアルゴリズム：データの構造やアルゴリズムの設計・解析方法を学び、プログラムの効率的な作成方法を習得する。\n",
      "\n",
      "２年次：\n",
      "・データベース：データベースの基礎知識や設計方法を学び、データの管理や検索について学ぶ。\n",
      "・ソフトウェア工学：ソフトウェアの設計や開発プロセスについて学び、ソフトウェアの品質を高めるための技術を習得する。\n",
      "・アルゴリズムとデータ構造の応用：より高度なデータ構造やアルゴリズムの応用技術を学び、問題解決能力を向上させる。\n",
      "\n",
      "３年次：\n",
      "・ネットワーク：ネットワークの基礎知識やプロトコルについて学び、ネットワークの設計や管理について習得する。\n",
      "・オペレーティングシステム：オペレーティングシステムの基礎知識や仕組みを学び、コンピューターシステムの管理や効率化について研究する。\n",
      "・ソフトウェア開発プロジェクト：実際のソフトウェア開発プロジェクトに参加し、チームでの開発経験を積む。\n",
      "\n",
      "４年次：\n",
      "・専門分野の深化：情報工学の中でも特定の分野について研究し、高度な知識や技術を習得する。\n",
      "・卒業研究：卒業研究を通じて、自分の興味や関心のあるテーマについて研究を行い、結果をまとめる。\n",
      "\n",
      "また、４年間を通じて数学や物理、経済などの基礎科目も学ぶことがあり、幅広い視野をもって情報工学を学ぶことができる。研究室やインターンシップでの実務体験も積むことができ、卒業後の進路に向けた準備も行われる。\n",
      "------------------------------\n",
      "要約対象\n",
      " １年次体験的な学びからスタートし、ＩＣＴの基本をマスター　― 実践的イントロダクション ―  \n",
      "\n",
      "ICTの基本をマスターするためには、まず１年次から実践的な学びが重要です。学校や家庭での授業や活動を通じて、ICTを活用したさまざまな学習や制作を経験することで、基本的なスキルや知識を身につけることができます。\n",
      "\n",
      "例えば、コンピュータの基本的な操作やワープロソフトの使い方、インターネットの検索方法などを学ぶことから始めることができます。また、デジタルカメラやビデオカメラを使って写真や動画を撮影し、編集する経験も重要です。これによって、デジタルメディアの活用方法やデータの管理方法を学ぶことができます。\n",
      "\n",
      "さらに、プログラミングの基礎も学ぶことが大切です。プログラミングは、ICTを活用したさまざまな制作や問題解決に役立つスキルです。１年次から簡単なプログラミング言語を学び、プログラミングの基礎的な考え方や論理的思考を身につけることができます。\n",
      "\n",
      "また、ICTを活用したコラボレーションやコミュニケーションのスキルも重要です。１年次から、グループでのプロジェクトやオンライン上での交流活動などを通じて、コミュニケーション能力やチームワークを養うことができます。\n",
      "\n",
      "以上のような実践的な学びを通じて、ICTの基本をマスターすることができます。１年次からの取り組みが、将来のさまざまな場面で役立つスキルを身につけるための基盤となります。\n",
      "------------------------------\n",
      "要約対象\n",
      " 従来の大学教育では一般的に理論を先に学びますが、「実践を重視」する本学では、1年次前期に、実際の製品やシステムの調査分析を通じてものづくりやサービス開発の技術にふれる授業が多くあります。先にテクノロジーを学ぶ面白さを実体験することで、その後の理論や専門知識の理解が進むからです。少人数クラスでの丁寧な指導のため、初心者でも安心して学びを進めることができます。1年間を通じて情報工学の全体像を理解し、「AI・IoT・ロボット」分野の基本的な理論と方法論を修得します。 \n",
      "\n",
      "また、2年次からは専攻を選び、それに基づいたカリキュラムを進めていきます。専門領域においては、より具体的な技術や知識を学び、プロジェクトを通じて実際の課題解決の経験も積むことができます。\n",
      "\n",
      "さらに、研究室に所属して研究活動に参加することも可能です。研究室では、最先端の技術や研究トピックに触れることができ、自分自身で課題を設定し、研究を進めることもできます。\n",
      "\n",
      "本学では、産学連携やインターンシップなど、実践的な経験を積む機会も豊富に用意されています。企業との協力プロジェクトや実際の現場での業務経験を通じて、実際の社会で求められるスキルと知識を身につけることができます。\n",
      "\n",
      "最新のテクノロジーや最先端の研究に触れることができる本学の教育は、将来の技術者としての成長を促すものです。実践的な学びを通じて、自らの力で課題解決やイノベーションを起こす力を育んでいきます。\n",
      "------------------------------\n",
      "要約対象\n",
      " ２年次コース別のカリキュラムスタート　― 「エンジニアリングスキル」を身につける ―  \n",
      "\n",
      "2年次のコース別カリキュラムは、学生がエンジニアリングスキルを身につけるために必要なコースや科目を提供します。エンジニアリングスキルは、実際のエンジニアリングプロジェクトで使用される技術やツールに関連しています。以下に、各コースで提供される主な科目の一例を示します。\n",
      "\n",
      "1. ソフトウェアエンジニアリングコース：\n",
      "   - プログラミング言語（Java、Python、C ++など）の基礎と応用\n",
      "   - ソフトウェア開発のライフサイクル（要件定義、設計、実装、テスト、保守）\n",
      "   - データ構造とアルゴリズムの設計と実装\n",
      "   - ソフトウェアテストと品質保証\n",
      "   - ソフトウェアプロジェクトの管理とチームワーク\n",
      "\n",
      "2. ネットワークエンジニアリングコース：\n",
      "   - ネットワーク基礎とプロトコル（TCP / IP、ルーティング、スイッチングなど）\n",
      "   - ネットワークセキュリティの基礎\n",
      "   - ネットワークデザインと構築\n",
      "   - ネットワークトラブルシューティングとパフォーマンスチューニング\n",
      "   - クラウドコンピューティングと仮想化技術\n",
      "\n",
      "3. ハードウェアエンジニアリングコース：\n",
      "   - デジタル回路と論理設計\n",
      "   - プロトタイピングと基板設計\n",
      "   - マイクロコントローラと組み込みシステム\n",
      "   - ディジタルシステムの設計とバージョン管理\n",
      "   - ハードウェアテストとトラブルシューティング\n",
      "\n",
      "4. データサイエンスコース：\n",
      "   - データの収集と整理\n",
      "   - データの可視化と分析\n",
      "   - データマイニングと機械学習の基礎\n",
      "   - データベース設計とクエリ言語（SQLなど）\n",
      "   - ビッグデータと分散処理の基礎\n",
      "\n",
      "このような科目のほかにも、プロジェクトベースの科目やインターンシッププログラムも提供される場合があります。これらの科目やプログラムを通じて、学生はエンジニアリングスキルを習得し、実世界の問題を解決するための能力を開発することが期待されます。\n",
      "------------------------------\n",
      "要約対象\n",
      " コースに分かれて専門的な知識・技能を養います。本学では現実的な課題に取り組む「課題解決型学習」（PBL＝Project Based Learning）を重視するため、実際に社会に出て、学内での学びを活かす授業も開始。たとえば、産業界や地域と連携する「地域共創デザイン実習」では、両学科の混在チームで1年間をかけて、企業や官公庁、公共団体などが直面する課題を解決するため、共同してプロジェクトに取り組みます。 \n",
      "\n",
      "これにより、学生は実際の現場での問題解決力やコミュニケーション能力などを身につけることができます。\n",
      "\n",
      "また、学科ごとに専門的なカリキュラムを設けることで、学生はより深く専門知識や技術を習得することができます。例えば、建築学科では建築設計や構造設計などを、都市デザイン学科ではまちづくりや景観デザインなどを学びます。\n",
      "\n",
      "さらに、コースによっては実習やインターンシップなどの実践的な学びを組み込んでいます。これにより、学生は卒業後の社会での実務に対応する力を養うことができます。\n",
      "\n",
      "専門的な知識や技能を養うために、学生は授業や実習に加えて自主学習や副読本の読み込みを行います。\n",
      "------------------------------\n",
      "要約対象\n",
      " ３年次専門知識・技能のレベルアップ　― 「テクノロジー実践力」と「ビジネスセンス」を磨く ―  \n",
      "\n",
      "３年次専門知識・技能のレベルアップは、次の２つの観点から考えることが重要です。\n",
      "\n",
      "1. テクノロジー実践力の向上：\n",
      "　　３年次になると、これまで学んだテクノロジーの基礎知識を実践する機会が増えます。具体的には、プロジェクトや実験などの実践的な課題に取り組むことがあります。このような機会を通じて、自分が学んだ知識や技術を実際の問題解決に活かすことができるようになります。また、他の学生とのチームプロジェクトなどを通じて、コミュニケーション能力や協働力も向上させることが期待されます。\n",
      "\n",
      "2. ビジネスセンスの強化：\n",
      "　　３年次になると、テクノロジーをビジネスに活かすための知識やスキルが求められるようになります。例えば、マーケティングや営業戦略、プロジェクトマネジメントなどのビジネスに関連する知識を身につけることが重要です。また、３年次にはインターンシップや企業訪問の機会も増えるため、実際のビジネス現場での経験を通じて、ビジネスセンスを磨くことができます。\n",
      "\n",
      "３年次の専門知識・技能のレベルアップを目指すためには、以下のようなアクションを取ることが効果的です。\n",
      "\n",
      "1. 実践的なプロジェクトに取り組む：\n",
      "　　課題解決や実験などの実践的なプロジェクトに積極的に参加し、自分の知識や技術を実践する機会を増やしましょう。また、他の学生とのチームプロジェクトに参加することで、コミュニケーション能力や協働力も向上させることができます。\n",
      "\n",
      "2. ビジネスに関連する知識を学ぶ：\n",
      "　　マーケティングや営業戦略、プロジェクトマネジメントなど、ビジネスに関連する知識を学ぶ機会を積極的に取り入れましょう。専門科目の中にはビジネスに関連する内容がある場合もありますので、それらの科目を選択することも考えてみてください。\n",
      "\n",
      "3. インターンシップや企業訪問に参加する：\n",
      "　　３年次になると、インターンシップや企業訪問などの機会が増えます。これらの機会を活用して、実際のビジネス現場での経験を積むことができます。また、企業とのつながりも広げることができるため、就職活動にも有利になります。\n",
      "\n",
      "３年次専門知識・技能のレベルアップを目指す際には、自分の興味や将来のキャリア目標に合わせて取り組んでみることも大切です。そして、自分自身の成長を見えるようにするために、定期的な振り返りや自己評価を行いながら、じわじわとスキルアップしていくことが重要です。\n",
      "------------------------------\n",
      "要約対象\n",
      " 実務レベルの高度な理論や技術をマスターしていきます。2年次からスタートしている「臨地実務実習」（実践的企業内実習）は第2段階に進み、企業や社会の課題を解決するシステム開発やサービス向上等を図るために、6週間にわたって現場でタスクを実行します。学内での授業も、人工知能の応用技術、IoTを活用したデータ分析、産業用ロボット実習など、実務に直結する学びがさらに充実します。しかも、指導するのは日本を代表する研究者や数々の国際的な業績を持つ実務家教員たちのため、世界に通用する実践力を養えます。 \n",
      "\n",
      "また、研究室やクラブ活動などを通じて、より専門性の高い知識やスキルを磨くこともできます。例えば、AIやロボット工学の研究室では、最新の研究トピックに取り組むことができます。また、プログラミングやデータ分析のクラブ活動に参加することで、実践的なスキルを身につけることができます。\n",
      "\n",
      "さらに、インターンシップや留学プログラムなど、国内外の企業や大学との連携も活発であり、実践的な学びをより深めることができます。留学プログラムでは、世界の先端技術や最新のトレンドに触れることができ、グローバルな視野を養うことができます。\n",
      "\n",
      "以上のように、工学部の学びは実践的であり、現場での実務力を身につけることができます。さまざまな機会を活かして、自身の能力を高めていくことができるでしょう。また、工学部の卒業生は、幅広い分野で活躍することができるため、将来のキャリアの幅も広がります。\n",
      "------------------------------\n",
      "要約対象\n",
      " ４年次応用力と総合力を備えた人材へ　― デジタル社会で広がる活躍の場 ―  \n",
      "\n",
      "近年、デジタル技術の発展により、様々な分野で大きな変革が進んでいます。このような変革に対応するためには、４年次の学生が応用力と総合力を備えた人材であることが求められます。\n",
      "\n",
      "応用力とは、学んだ知識や技術を現実の問題解決に活かす能力のことです。たとえば、プログラミングやデータ解析のスキルを持っているだけでは十分ではありません。それを活かして、企業の業務効率化や新たなビジネスモデルの構築を行えることが重要です。具体的な例としては、セキュリティの専門知識を活かして、企業の情報セキュリティ対策を強化するプロジェクトに参加するなどがあります。\n",
      "\n",
      "総合力とは、学問的な専門知識だけでなく、ビジネスや組織運営など幅広い分野の知識やスキルを持つことです。これにより、チームでの協働やクライアントとのコミュニケーションが円滑に行えるようになります。また、社会的な課題に対しても敏感に対応する能力が求められます。例えば、人工知能の専門知識を持ちながら、その倫理的な問題や社会的な影響を考慮して実装を行うことができるようになる必要があります。\n",
      "\n",
      "デジタル社会での活躍の場は多岐にわたります。企業のプロジェクトに参加するだけでなく、スタートアップ企業の立ち上げや自ら新たなビジネスモデルを開拓することも可能です。また、行政や非営利組織での活動や、国内外の研究機関での研究も求められています。\n",
      "\n",
      "４年次の学生は、これらの活躍の場に向けて必要な能力を養うために、多様な経験を積む必要があります。例えば、インターンシップやボランティア活動、国際交流などを通じて、実践的なスキルや社会的な視点を身につけることが重要です。\n",
      "\n",
      "４年次には、卒業研究や卒業制作を行う機会も与えられます。これは、学んだ知識や技術をフル活用して、実際の問題解決に取り組む貴重な機会です。この機会を通じて、応用力と総合力をさらに高め、自身の能力を証明することもできます。\n",
      "\n",
      "デジタル社会は、ますます深化・拡大していくことが予想されています。その中で、４年次の学生が主体的に活躍できるためには、応用力と総合力の充実が必要不可欠です。このような人材の育成を大学は重要な役割として果たしていくべきです。\n",
      "------------------------------\n",
      "要約対象\n",
      " 「卒業研究制作」を中心に、4年間の学びの集大成となる1年間です。ICTが飛躍的に進化するこれからの時代、AI、IoT、ロボットの新しい技術を活用できる人材やデータマネジメントを的確に行える人材の活躍の場は、産業界全体に広がります。本学で、理論と実践、学問と実務の双方を身につけることで、多様化・複雑化する社会の課題を解決し社会が求めるイノベーションを生み出せる「新しい人材」に成長していきます。 \n",
      "\n",
      "卒業研究制作は、学生がこれまでの学びを活かし、自身のテーマに沿って研究を進める重要な機会です。学生は自ら課題を設定し、その解決策を見つけるために情報収集や実験、分析などを行います。\n",
      "\n",
      "ICTの進化により、私たちはますます大量のデータを扱う必要があります。これらのデータを活用するためには、適切なデータマネジメントが必要です。データの整理や分析、可視化などを通じて、そのデータから有用な情報を引き出し、意思決定や問題解決に活かすことが求められています。\n",
      "\n",
      "また、AIやIoT、ロボットの技術も進化し、様々な産業分野で活用されるようになっています。これらの新しい技術を活用し、社会の課題を解決するためには、それらの技術を理解し、導入する能力が求められます。卒業研究制作を通じて、学生はこれらの技術を研究しながら、実際に導入するプロジェクトを進めることができます。\n",
      "\n",
      "卒業研究制作を通じて、学生は自らの能力を最大限に発揮し、独自の研究成果を生み出すことが求められます。また、他のメンバーや教員との協力やコミュニケーションを通じて、共同で研究を進める能力も重要です。\n",
      "\n",
      "卒業研究制作は、学生がこれまでの学びを結集し、社会に貢献するための重要な一歩です。ICTの進化に対応し、新しい人材としての成長を目指しましょう。\n",
      "------------------------------\n",
      "要約対象\n",
      " デザインエンジニアリング概論  \n",
      "\n",
      "デザインエンジニアリングは、デザインとエンジニアリングの知識とスキルを組み合わせて製品やシステムを開発するプロセスです。デザインエンジニアリングでは、デザインの観点から製品やシステムの要件を定義し、エンジニアリングの観点からその要件を実現するための設計・開発を行います。\n",
      "\n",
      "デザインエンジニアリングの目的は、ユーザビリティや使いやすさ、機能性、品質、コスト効率などの要素をバランスよく考慮しながら製品やシステムを開発することです。デザインエンジニアリングでは、デザイナーとエンジニアが密接に連携し、デザインの観点からアイデアやコンセプトを出し、エンジニアリングの観点からそれを具体的な製品やシステムに落とし込んでいきます。\n",
      "\n",
      "デザインエンジニアリングのプロセスは、以下のようなステップで構成されます。\n",
      "\n",
      "1. 要件定義：製品やシステムの目的や要件を明確に定義します。ユーザのニーズや市場のトレンド、競合製品などを調査し、それに基づいて要件を設定します。\n",
      "\n",
      "2. コンセプト設計：デザイナーとエンジニアが共同でアイデアを出し合い、製品やシステムのコンセプトを設計します。外観デザインやユーザインターフェースのデザインなど、ユーザにとって魅力的で使いやすいデザインを考えます。\n",
      "\n",
      "3. 詳細設計：コンセプト設計をもとに、具体的な製品やシステムの仕様や設計を行います。機構設計や回路設計など、エンジニアリングの知識と技術を活用して製品やシステムの動作原理を設計します。\n",
      "\n",
      "4. 製品開発：詳細設計をもとに、製品やシステムの製造やプログラミングなどの実際の開発作業を行います。デザイナーとエンジニアが連携して、外観デザインと機能性を両立させるための最適な製造プロセスや技術を検討します。\n",
      "\n",
      "5. 品質管理：製品やシステムの品質を確保するために、テストや評価を行います。製品の耐久性や安全性、性能などを評価し、必要な修正や改善を行います。\n",
      "\n",
      "6. マーケティング・販売：製品やシステムを市場に投入するためのマーケティング戦略や販売計画を立てます。デザインや機能の魅力を伝えるためのマーケティングツールや販売チャネルを構築し、製品やシステムの需要を創出します。\n",
      "\n",
      "デザインエンジニアリングは、製品やシステムの開発だけでなく、製品のライフサイクル全体を通じて、ユーザの満足度を最大化するための取り組みです。顧客のニーズを的確に把握し、競争力のある製品やシステムを開発するために、デザインエンジニアリングの取り組みが重要です。\n",
      "------------------------------\n",
      "要約対象\n",
      " “Designer in Society”の核となる、デザインエンジニアリングの概念およびその方法論を学びます。実際の製品の分解作業を通じて、その機能や内部構造をハードウェアとソフトウェア両面から調査し、製品に求められる要素を分析します。デザインは製品だけでなくサービスも対象とし、製品やサービスの背後に存在する代表的な技術と設計のプロセスを理解することで、実際の制作に活かすデザインエンジニアリングの方法論を身につけます。 \n",
      "\n",
      "具体的には、以下の内容を学びます。\n",
      "\n",
      "1. デザインエンジニアリングの概念と方法論\n",
      "   - デザイン思考の基本的な考え方\n",
      "   - ユーザー中心の設計手法\n",
      "   - 製品やサービスのコンセプト開発\n",
      "   - プロトタイピングの方法と重要性\n",
      "\n",
      "2. プロダクトデザインの分解と分析\n",
      "   - 製品やサービスの分解作業の方法\n",
      "   - 機能や内部構造の分析手法\n",
      "   - 製品特性の評価手法\n",
      "\n",
      "3. デザインエンジニアリングの実践例の学習\n",
      "   - 代表的な製品やサービスのデザインエンジニアリングの事例の学習\n",
      "   - 製品やサービスの開発プロセスの理解\n",
      "   - チームでのデザインエンジニアリングの実践\n",
      "\n",
      "4. 技術と設計のプロセスの理解\n",
      "   - 電子工学や機械工学、情報工学などの代表的な技術の理解\n",
      "   - 製品やサービスの設計プロセスの理解\n",
      "   - 技術と設計の統合の方法論\n",
      "\n",
      "以上のような内容を通じて、デザインエンジニアリングの方法論を学びながら、製品やサービスの開発に必要な考え方やスキルを身につけることを目指します。\n",
      "------------------------------\n",
      "要約対象\n",
      " ソリューション開発Ⅰ・Ⅱ  \n",
      "\n"
     ]
    }
   ],
   "source": [
    "summary_chunk = []\n",
    "\n",
    "for i in range(len(data_df['chunk'])):\n",
    "   print(\"要約対象\\n\",data_df[\"chunk\"][i],\"\\n\")\n",
    "\n",
    "   chunk_messages = [{\n",
    "   'role': 'system',\n",
    "   'content': data_df[\"chunk\"][i]\n",
    "   }]\n",
    "\n",
    "   summary_response = openai.chat.completions.create(model=\"gpt-3.5-turbo\",\n",
    "                                                     messages=chunk_messages,\n",
    "                                                    )\n",
    "   summary = summary_response.choices[0].message.content\n",
    "   summary_chunk.append(summary)\n",
    "   print(summary)\n",
    "   \n",
    "   print(\"-\"*30)"
   ]
  },
  {
   "cell_type": "code",
   "execution_count": null,
   "metadata": {},
   "outputs": [
    {
     "name": "stdout",
     "output_type": "stream",
     "text": [
      "                                                chunk  \\\n",
      "0   現代社会の課題は多様な要素が複雑に絡み合い、しかも常に変化しています。その解決には、単一の専...   \n",
      "1   55年ぶりに国がつくった新しい大学制度によって生まれた、職業に直結した教育を行う専門職大学。...   \n",
      "2   学びが行き届く 「少人数教育」原則40人以下で行う少人数授業が、専門職大学の特長。本学ではさ...   \n",
      "3   実践を学べる「実務家教員」 教員の４割以上は企業等で実務を経験した「実務家教員」。特に本学で...   \n",
      "4   ビジネスの最前線「企業内実習」 一般的な大学で行われている短期の就業体験・インターンシップと...   \n",
      "5   授業全体での「実習・実技の割合」理論と実践の双方を重視するため、卒業に必要な単位のうち、1/...   \n",
      "6   ビジネスの現場で培う高度な実践力 産業界との連携が強く、ビジネスの実情に即して授業内容の改善...   \n",
      "7   工科学部・情報工学科 AI戦略コース 人工知能の理論から、実装のためのプログラミング技術まで...   \n",
      "8                                 授与される学位は 情報工学士(専門職)   \n",
      "9                                        情報工学科の４年間の学び   \n",
      "10  １年次体験的な学びからスタートし、ＩＣＴの基本をマスター　― 実践的イントロダクション ― ...   \n",
      "11  ２年次コース別のカリキュラムスタート　― 「エンジニアリングスキル」を身につける ― コース...   \n",
      "12  ３年次専門知識・技能のレベルアップ　― 「テクノロジー実践力」と「ビジネスセンス」を磨く ―...   \n",
      "13  ４年次応用力と総合力を備えた人材へ　― デジタル社会で広がる活躍の場 ― 「卒業研究制作」を...   \n",
      "14  デザインエンジニアリング概論 “Designer in Society”の核となる、デザイン...   \n",
      "15  ソリューション開発Ⅰ・Ⅱ 協力企業・団体から提供される実践的な課題をもとに、チームでソリュー...   \n",
      "16  人工知能システム開発Ⅰ・Ⅱ 2年次前期、3年次前期の実習科目です。人工知能のシステム開発の専...   \n",
      "17  深層学習 深層学習(Deep Learning) の主要技術であるニューラルネットワークの技...   \n",
      "18    情報の参考元となるサイトは「https://www.iput.ac.jp/tokyo/」です。   \n",
      "\n",
      "                                              summary  \n",
      "0   東京国際工科専門職大学は、社会とともにあるデザイナーを育成する使命を持つ。現代の社会課題は多...  \n",
      "1   東京国際工科専門職大学では、学生は専門職に必要な実務的なスキルを身につけるだけでなく、その背...  \n",
      "2   少人数教育の利点は多くあります。\\n\\nまず、学生一人ひとりに対して個別のサポートができると...  \n",
      "3   これにより、学生は実際の現場での経験に基づいた教育を受けることができます。また、実務家教員は...  \n",
      "4   企業内実習は、通常のインターンシップと比べて非常に長期間にわたるものであり、実務経験をより深...  \n",
      "5   また、実習・実技の授業では、実際の現場や社会で求められるスキルや知識を身につけることができま...  \n",
      "6   また、インターンシップや業界への留学などの機会も豊富であり、実際のビジネスの現場での経験を積...  \n",
      "7   AI戦略コースでは、人工知能に関する基礎知識からスタートし、機械学習や深層学習などの技術を学...  \n",
      "8                                                 です。  \n",
      "9   情報工学科の４年間の学びは非常に広範であり、コンピュータサイエンス、ソフトウェアエンジニアリ...  \n",
      "10  また、学部共通科目として英語や数学、基礎物理などを学びます。これにより、情報工学の分野におい...  \n",
      "11  このコースでは、エンジニアリングスキルを身につけることを目指します。具体的には、専門的な知識...  \n",
      "12  この授業では、３年次の学生は前期に実務レベルの高度な理論や技術を学ぶことができます。具体的に...  \n",
      "13  本学では、情報系学科を中心に、ICTを活用した卒業研究制作に取り組みます。学生は、自らが興味...  \n",
      "14  デザインエンジニアリングは、製品やサービスを設計する際に必要な技術と設計のプロセスを組み合わ...  \n",
      "15  本プログラムでは、協力企業・団体から提供された実践的な課題を解決するためのソリューションをチ...  \n",
      "16  この科目では、具体的な課題を解決するために、機械学習アルゴリズムを適用し、システムを開発しま...  \n",
      "17  Deep Learning（深層学習）は、人間の脳の構造や機能を模倣したニューラルネットワー...  \n",
      "18  参考になる情報は以下の通りです。\\n\\n1. 東京キャンパスに関する情報: 東京キャンパスの...  \n"
     ]
    }
   ],
   "source": [
    "# summary_chunk を data_df に追加\n",
    "data_df[\"summary\"] = summary_chunk\n",
    "\n",
    "# 結果の表示\n",
    "print(data_df)"
   ]
  },
  {
   "cell_type": "markdown",
   "metadata": {},
   "source": [
    "各summaryデータからキーワード抽出"
   ]
  },
  {
   "cell_type": "code",
   "execution_count": 25,
   "metadata": {},
   "outputs": [
    {
     "name": "stdout",
     "output_type": "stream",
     "text": [
      "['専門', '専門', '人数', '実務', 'ビジネス', '実技', 'ビジネス', 'ai', 'ai', 'it', '学位', '学び', 'イントロダクション', '理論', 'エンジニアリング', '課題', 'センス', '実務', 'デジタル', '人材', 'エンジニアリング', '製品', 'ソリューション', '企業', 'システム', 'システム', '学習', '技術', 'ac']\n"
     ]
    }
   ],
   "source": [
    "from sklearn.feature_extraction.text import TfidfVectorizer\n",
    "from janome.tokenizer import Tokenizer\n",
    "from collections import Counter\n",
    "\n",
    "# Custom stop words list\n",
    "custom_stop_words = [\"ある\", \"する\", \"です\", \"など\", ...]  # Add more stop words as needed\n",
    "\n",
    "def extract_top_keyword(text):\n",
    "    # Janomeを使用して形態素解析を行います。\n",
    "    janome_parser = Tokenizer()\n",
    "    tokens = janome_parser.tokenize(text)\n",
    "\n",
    "    # 形態素解析の結果から名詞を抽出します。\n",
    "    nouns = [token.surface for token in tokens if '名詞' in token.part_of_speech]\n",
    "\n",
    "    # Remove custom stop words\n",
    "    nouns = [word for word in nouns if word not in custom_stop_words]\n",
    "\n",
    "    # If there are no meaningful words left, return None\n",
    "    if not nouns:\n",
    "        return None\n",
    "\n",
    "    # 文書全体のリストに変換してからTF-IDFを計算\n",
    "    corpus = [\" \".join(nouns)]\n",
    "\n",
    "    # Use TfidfVectorizer with custom stop words\n",
    "    vectorizer = TfidfVectorizer(stop_words=custom_stop_words)\n",
    "    tfidf_matrix = vectorizer.fit_transform(corpus)\n",
    "\n",
    "    # Check if the vocabulary is empty\n",
    "    if not vectorizer.vocabulary_:\n",
    "        return None\n",
    "\n",
    "    # TF-IDFの値を抽出\n",
    "    feature_names = vectorizer.get_feature_names_out()\n",
    "    tfidf_values = tfidf_matrix.toarray()[0]\n",
    "\n",
    "    # TF-IDFを組み合わせてキーワードを抽出\n",
    "    tfidf_dict = dict(zip(feature_names, tfidf_values))\n",
    "    top_keyword = max(tfidf_dict, key=tfidf_dict.get)\n",
    "\n",
    "    return top_keyword\n",
    "\n",
    "key_extraction = []\n",
    "\n",
    "for i in range(len(data_df['chunk'])):\n",
    "    extraction =  data_df['chunk'][i]\n",
    "\n",
    "    # 一番重要なキーワードの抽出\n",
    "    top_keyword = extract_top_keyword(extraction)\n",
    "    #print(\"Top Keyword:\", top_keyword  )\n",
    "    #print(\"-\"*30)\n",
    "    key_extraction.append(top_keyword)\n",
    "\n",
    "print(key_extraction)"
   ]
  },
  {
   "cell_type": "code",
   "execution_count": 29,
   "metadata": {},
   "outputs": [
    {
     "name": "stdout",
     "output_type": "stream",
     "text": [
      "Keywords for chunk 1: ['現代', '社会', '課題', '多様', '要素', '複雑', '変化', '解決', '単一', '専門', '分野', '知識', '静的', '専門', '知', '困難', '私', 'たち', '既存', '諸', '学問', '壁', '専門', '分野', '横断', '現場', '実践', '知見', '最新', 'テクノロジー', '統合', '的', '駆使', '動的', '創造', '知', 'ため', '学生', '教員', '一体', '探究', '産業', '界', '地域', '世界', '人々', '協', '働', '理論', '実践', '武器', '新た', '価値', '創造', '未来', 'ため', '必要', '力', '多様', '複雑', '社会', '課題', 'Designer', 'in', 'Society', '社会', 'デザイナー', '世', 'これ', '時代', '対応', '新', '大学', '私', 'たち', '東京', '国際', '工科', '専門', '職', '大学', '使命']\n",
      "------------------------------\n",
      "Keywords for chunk 2: ['55', '年', 'ぶり', '国', '大学', '制度', '職業', '直結', '教育', '専門', '職', '大学', 'プロフェッショナル', 'ため', '必要', '知識', '理論', '実践', '的', 'スキル', '身', 'こと', '卒業', '時', '専門', '職', '学位', '取得', '東京', '国際', '工科', '専門', '職', '大学', 'プロフェッショナル', '専門', '職', '従事', '人', '専門', '職', '職能', '意識', 'イノベーション', '人材']\n",
      "------------------------------\n",
      "Keywords for chunk 3: ['学び', '少', '人数', '教育', '原則', '40', '人', '以下', '少', '人数', '授業', '専門', '職', '大学', '特長', '本学', '学生', '10', '人', '1', 'グループ', '担当', '教員', '完全', '担任', '制度', '採用', '学修', '進路', '指導', '細やか', 'サポート', '対話', '議論', '学び', '環境']\n",
      "------------------------------\n",
      "Keywords for chunk 4: ['実践', '実務', '家', '教員', '教員', '４', '割', '以上', '企業', '等', '実務', '経験', '実務', '家', '教員', '本学', '企業', '活躍', '経験', 'エキスパート', '専任', '指導', '担当', '日々', '学び', '中', '世界', '業界', '最前線', '知識', '技能', '修得']\n",
      "------------------------------\n",
      "Keywords for chunk 5: ['ビジネス', '最前線', '企業', '内', '実習', '一般', '的', '大学', '短期', '就業', '体験', 'インターンシップ', '企業', '内', '実習', '総', '期間', '16', '週間', '以上', '実働', '600', '時間', '以上', 'ビジネス', '現場', '業務', '課題', '解決', 'スキル', '実践', '力', '修得']\n",
      "------------------------------\n",
      "Keywords for chunk 6: ['授業', '全体', '実習', '実技', '割合', '理論', '実践', '双方', '重視', 'ため', '卒業', '必要', '単位', 'うち', '1', '/', '3', '以上', '実習', '実技', '授業', '豊富', '実習', '実技', '視野', '知見', '身', '実践', '力', '創造', '力']\n",
      "------------------------------\n",
      "Keywords for chunk 7: ['ビジネス', '現場', '高度', '実践', '力', '産業', '界', '連携', 'ビジネス', '実情', '授業', '内容', '改善', '積極', '的', '環境']\n",
      "------------------------------\n",
      "Keywords for chunk 8: ['工', '科学', '部', '情報', '工学科', 'AI', '戦略', 'コース', '人工', '知能', '理論', '実装', 'ため', 'プログラミング', '技術', '段階', '的']\n",
      "------------------------------\n",
      "Keywords for chunk 9: ['自動車', '自動', '運転', '過去', '検索', 'キーワード', '元', '候補', '予測', '変換', '事例', 'よう', 'ビッグ', 'データ', '目的', '情報', '学習', '推論', 'ユーザ', 'ニーズ', '新た', 'AI', 'サービス', 'デザイン', '人材', '育成']\n",
      "------------------------------\n",
      "Keywords for chunk 10: ['目', '将来', '像', 'AI', 'エンジニア', 'システム', '開発', 'ソフトウェア', '開発', '等', 'IT', 'コンサルタント', 'データ', 'アナリスト', '企業', 'IT', '系', '製造', 'メーカー', '自動車', 'メーカー', '総合', '商社', '金融', '等', '官公庁', 'はじめ', '分野', '次世代', '産業', '人材']\n",
      "------------------------------\n",
      "Keywords for chunk 11: ['授与', '学位', '情報', '工', '学士', '(', '専門', '職', ')']\n",
      "------------------------------\n",
      "Keywords for chunk 12: ['情報', '工学科', '４', '年間', '学び']\n",
      "------------------------------\n",
      "Keywords for chunk 13: ['１', '年次', '体験', '的', '学び', 'スタート', 'ＩＣＴ', '基本', 'マスター', '実践', '的', 'イントロダクション']\n",
      "------------------------------\n",
      "Keywords for chunk 14: ['従来', '大学', '教育', '一般', '的', '理論', '先', '実践', '重視', '本学', '1', '年', '次', '前期', '製品', 'システム', '調査', '分析', 'もの', 'づくり', 'サービス', '開発', '技術', '授業', '先', 'テクノロジー', 'さ', '実体験', 'こと', 'その後', '理論', '専門', '知識', '理解', '少', '人数', 'クラス', '丁寧', '指導', 'ため', '初心者', '安心', '学び', 'こと', '1', '年間', '情報', '工学', '全体', '像', '理解', 'AI', 'IoT', 'ロボット', '分野', '基本', '的', '理論', '方法', '論', '修得']\n",
      "------------------------------\n",
      "Keywords for chunk 15: ['２', '年', '次', 'コース', '別', 'カリキュラム', 'スタート', 'エンジニアリング', 'スキル', '身']\n",
      "------------------------------\n",
      "Keywords for chunk 16: ['コース', '専門', '的', '知識', '技能', '本学', '現実', '的', '課題', '課題', '解決', '型', '学習', 'PBL', 'Project', 'Based', 'Learning', '重視', 'ため', '社会', '学内', '学び', '授業', '開始', '産業', '界', '地域', '連携', '地域', '共', '創', 'デザイン', '実習', '両', '学科', '混在', 'チーム', '1', '年間', '企業', '官公庁', '公共', '団体', '直面', '課題', '解決', 'ため', '共同', 'プロジェクト']\n",
      "------------------------------\n",
      "Keywords for chunk 17: ['３', '年', '次', '専門', '知識', '技能', 'レベルアップ', 'テクノロジー', '実践', '力', 'ビジネス', 'センス']\n",
      "------------------------------\n",
      "Keywords for chunk 18: ['実務', 'レベル', '高度', '理論', '技術', 'マスター', '2', '年', '次', 'スタート', '臨地', '実務', '実習', '実践', '的', '企業', '内', '実習', '2', '段階', '企業', '社会', '課題', '解決', 'システム', '開発', 'サービス', '向上', '等', 'ため', '6', '週間', '現場', 'タスク', '実行', '学内', '授業', '人工', '知能', '応用', '技術', 'IoT', '活用', 'データ', '分析', '産業', '用', 'ロボット', '実習', '実務', '直結', '学び', '充実', '指導', 'の', '日本', '代表', '研究', '者', '数々', '国際', '的', '業績', '実務', '家', '教員', 'たち', 'ため', '世界', '通用', '実践', '力']\n",
      "------------------------------\n",
      "Keywords for chunk 19: ['４', '年次', '応用', '力', '総合', '力', '人材', 'デジタル', '社会', '活躍', '場']\n",
      "------------------------------\n",
      "Keywords for chunk 20: ['卒業', '研究', '制作', '中心', '4', '年間', '学び', '集大成', '1', '年間', 'ICT', '飛躍', '的', '進化', '時代', 'AI', 'IoT', 'ロボット', '技術', '活用', '人材', 'データ', 'マネジメント', '的確', '人材', '活躍', '場', '産業', '界', '全体', '本学', '理論', '実践', '学問', '実務', '双方', '身', 'こと', '多様', '化', '複雑', '化', '社会', '課題', '解決', '社会', 'イノベーション', '人材', '成長']\n",
      "------------------------------\n",
      "Keywords for chunk 21: ['デザイン', 'エンジニアリング', '概論']\n",
      "------------------------------\n",
      "Keywords for chunk 22: ['Designer', 'in', 'Society', '核', 'デザイン', 'エンジニアリング', '概念', '方法', '論', '製品', '分解', '作業', '機能', '内部', '構造', 'ハードウェア', 'ソフトウェア', '両面', '調査', '製品', '要素', '分析', 'デザイン', '製品', 'サービス', '対象', '製品', 'サービス', '背後', '存在', '代表', '的', '技術', '設計', 'プロセス', '理解', 'こと', '制作', 'デザイン', 'エンジニアリング', '方法', '論', '身']\n",
      "------------------------------\n",
      "Keywords for chunk 23: ['ソリューション', '開発', 'Ⅰ', '・', 'Ⅱ']\n",
      "------------------------------\n",
      "Keywords for chunk 24: ['協力', '企業', '団体', '提供', '実践', '的', '課題', 'もと', 'チーム', 'ソリューション', '解決', '策', '考案', '1', 'システム', '開発', '企画', '開発', 'アイディア', 'プロトタイプ', '企業', 'フィードバック', '実社会', '問題', '解決', '能力', 'ニーズ', 'ICT', '活用', '専門', '職人', '材', '付加', '価値', '思考', '力', '身']\n",
      "------------------------------\n",
      "Keywords for chunk 25: ['人工', '知能', 'システム', '開発', 'Ⅰ', '・', 'Ⅱ']\n",
      "------------------------------\n",
      "Keywords for chunk 26: ['2', '年', '次', '前期', '3', '年', '次', '前期', '実習', '科目', '人工', '知能', 'システム', '開発', '専門', '知識', '高度', 'スキル', '身', 'ため', '代表', '的', 'アルゴリズム', '応用', 'AI', '要素', '技術', '統合', 'プロトタイプ', '作成', 'テスト', '評価', 'チーム', 'システム', '開発', '解決', '課題', '課題', '解決', '機械', '学習', 'アルゴリズム', '選択', '適用', 'AI', 'ツール', '選択', '解決', 'ため', 'システム', '設計', '実現', '方式', 'プログラム', '実装', 'テスト', 'システム', '評価', '問題', '解決', '度合い', '最終', '評価', '一連', 'システム', '実装', 'プロセス', 'プロトタイプ', '設計', '試作', '一部', '実社会', 'ソリューションシステム', '開発', 'プロジェクト', '進行', '体験', 'ノウハウ', '修得', 'AI', '頭', '理解', '車', '運転', 'よう', '全身', '理解', 'こと']\n",
      "------------------------------\n",
      "Keywords for chunk 27: ['深層', '学習']\n",
      "------------------------------\n",
      "Keywords for chunk 28: ['深層', '学習', '(', 'Deep', 'Learning', ')', '主要', '技術', 'ニューラルネットワーク', '技術', '内容', '実現', '手法', '効果', '講義', '適用', '例', '紹介', 'ツール', '活用', '実装', '例題', '具体', '的', '技術', '適用', '方法', '画像', '認識', 'システム', '実用', '深層', '学習', '技術', 'ニューラルネットワーク', 'CNN', '構築', '例題', '具体', '的', '1', '個', '以上', '実装', '例', '修得', '深層', '学習', '技術', '利用', '応用', '分野', '画像', '認識', '等', 'ソリューション', '技術', '活用', '事例', 'ベース', '適用', '可能', '性', '拡張', '性', '判断', 'よう']\n",
      "------------------------------\n",
      "Keywords for chunk 29: ['情報', '参考', '元', 'サイト', 'https', '://', 'www', '.', 'iput', '.', 'ac', '.', 'jp', '/', 'tokyo', '/」']\n",
      "------------------------------\n",
      "All Keywords:\n",
      "['現代', '社会', '課題', '多様', '要素', '複雑', '変化', '解決', '単一', '専門', '分野', '知識', '静的', '専門', '知', '困難', '私', 'たち', '既存', '諸', '学問', '壁', '専門', '分野', '横断', '現場', '実践', '知見', '最新', 'テクノロジー', '統合', '的', '駆使', '動的', '創造', '知', 'ため', '学生', '教員', '一体', '探究', '産業', '界', '地域', '世界', '人々', '協', '働', '理論', '実践', '武器', '新た', '価値', '創造', '未来', 'ため', '必要', '力', '多様', '複雑', '社会', '課題', 'Designer', 'in', 'Society', '社会', 'デザイナー', '世', 'これ', '時代', '対応', '新', '大学', '私', 'たち', '東京', '国際', '工科', '専門', '職', '大学', '使命', '55', '年', 'ぶり', '国', '大学', '制度', '職業', '直結', '教育', '専門', '職', '大学', 'プロフェッショナル', 'ため', '必要', '知識', '理論', '実践', '的', 'スキル', '身', 'こと', '卒業', '時', '専門', '職', '学位', '取得', '東京', '国際', '工科', '専門', '職', '大学', 'プロフェッショナル', '専門', '職', '従事', '人', '専門', '職', '職能', '意識', 'イノベーション', '人材', '学び', '少', '人数', '教育', '原則', '40', '人', '以下', '少', '人数', '授業', '専門', '職', '大学', '特長', '本学', '学生', '10', '人', '1', 'グループ', '担当', '教員', '完全', '担任', '制度', '採用', '学修', '進路', '指導', '細やか', 'サポート', '対話', '議論', '学び', '環境', '実践', '実務', '家', '教員', '教員', '４', '割', '以上', '企業', '等', '実務', '経験', '実務', '家', '教員', '本学', '企業', '活躍', '経験', 'エキスパート', '専任', '指導', '担当', '日々', '学び', '中', '世界', '業界', '最前線', '知識', '技能', '修得', 'ビジネス', '最前線', '企業', '内', '実習', '一般', '的', '大学', '短期', '就業', '体験', 'インターンシップ', '企業', '内', '実習', '総', '期間', '16', '週間', '以上', '実働', '600', '時間', '以上', 'ビジネス', '現場', '業務', '課題', '解決', 'スキル', '実践', '力', '修得', '授業', '全体', '実習', '実技', '割合', '理論', '実践', '双方', '重視', 'ため', '卒業', '必要', '単位', 'うち', '1', '/', '3', '以上', '実習', '実技', '授業', '豊富', '実習', '実技', '視野', '知見', '身', '実践', '力', '創造', '力', 'ビジネス', '現場', '高度', '実践', '力', '産業', '界', '連携', 'ビジネス', '実情', '授業', '内容', '改善', '積極', '的', '環境', '工', '科学', '部', '情報', '工学科', 'AI', '戦略', 'コース', '人工', '知能', '理論', '実装', 'ため', 'プログラミング', '技術', '段階', '的', '自動車', '自動', '運転', '過去', '検索', 'キーワード', '元', '候補', '予測', '変換', '事例', 'よう', 'ビッグ', 'データ', '目的', '情報', '学習', '推論', 'ユーザ', 'ニーズ', '新た', 'AI', 'サービス', 'デザイン', '人材', '育成', '目', '将来', '像', 'AI', 'エンジニア', 'システム', '開発', 'ソフトウェア', '開発', '等', 'IT', 'コンサルタント', 'データ', 'アナリスト', '企業', 'IT', '系', '製造', 'メーカー', '自動車', 'メーカー', '総合', '商社', '金融', '等', '官公庁', 'はじめ', '分野', '次世代', '産業', '人材', '授与', '学位', '情報', '工', '学士', '(', '専門', '職', ')', '情報', '工学科', '４', '年間', '学び', '１', '年次', '体験', '的', '学び', 'スタート', 'ＩＣＴ', '基本', 'マスター', '実践', '的', 'イントロダクション', '従来', '大学', '教育', '一般', '的', '理論', '先', '実践', '重視', '本学', '1', '年', '次', '前期', '製品', 'システム', '調査', '分析', 'もの', 'づくり', 'サービス', '開発', '技術', '授業', '先', 'テクノロジー', 'さ', '実体験', 'こと', 'その後', '理論', '専門', '知識', '理解', '少', '人数', 'クラス', '丁寧', '指導', 'ため', '初心者', '安心', '学び', 'こと', '1', '年間', '情報', '工学', '全体', '像', '理解', 'AI', 'IoT', 'ロボット', '分野', '基本', '的', '理論', '方法', '論', '修得', '２', '年', '次', 'コース', '別', 'カリキュラム', 'スタート', 'エンジニアリング', 'スキル', '身', 'コース', '専門', '的', '知識', '技能', '本学', '現実', '的', '課題', '課題', '解決', '型', '学習', 'PBL', 'Project', 'Based', 'Learning', '重視', 'ため', '社会', '学内', '学び', '授業', '開始', '産業', '界', '地域', '連携', '地域', '共', '創', 'デザイン', '実習', '両', '学科', '混在', 'チーム', '1', '年間', '企業', '官公庁', '公共', '団体', '直面', '課題', '解決', 'ため', '共同', 'プロジェクト', '３', '年', '次', '専門', '知識', '技能', 'レベルアップ', 'テクノロジー', '実践', '力', 'ビジネス', 'センス', '実務', 'レベル', '高度', '理論', '技術', 'マスター', '2', '年', '次', 'スタート', '臨地', '実務', '実習', '実践', '的', '企業', '内', '実習', '2', '段階', '企業', '社会', '課題', '解決', 'システム', '開発', 'サービス', '向上', '等', 'ため', '6', '週間', '現場', 'タスク', '実行', '学内', '授業', '人工', '知能', '応用', '技術', 'IoT', '活用', 'データ', '分析', '産業', '用', 'ロボット', '実習', '実務', '直結', '学び', '充実', '指導', 'の', '日本', '代表', '研究', '者', '数々', '国際', '的', '業績', '実務', '家', '教員', 'たち', 'ため', '世界', '通用', '実践', '力', '４', '年次', '応用', '力', '総合', '力', '人材', 'デジタル', '社会', '活躍', '場', '卒業', '研究', '制作', '中心', '4', '年間', '学び', '集大成', '1', '年間', 'ICT', '飛躍', '的', '進化', '時代', 'AI', 'IoT', 'ロボット', '技術', '活用', '人材', 'データ', 'マネジメント', '的確', '人材', '活躍', '場', '産業', '界', '全体', '本学', '理論', '実践', '学問', '実務', '双方', '身', 'こと', '多様', '化', '複雑', '化', '社会', '課題', '解決', '社会', 'イノベーション', '人材', '成長', 'デザイン', 'エンジニアリング', '概論', 'Designer', 'in', 'Society', '核', 'デザイン', 'エンジニアリング', '概念', '方法', '論', '製品', '分解', '作業', '機能', '内部', '構造', 'ハードウェア', 'ソフトウェア', '両面', '調査', '製品', '要素', '分析', 'デザイン', '製品', 'サービス', '対象', '製品', 'サービス', '背後', '存在', '代表', '的', '技術', '設計', 'プロセス', '理解', 'こと', '制作', 'デザイン', 'エンジニアリング', '方法', '論', '身', 'ソリューション', '開発', 'Ⅰ', '・', 'Ⅱ', '協力', '企業', '団体', '提供', '実践', '的', '課題', 'もと', 'チーム', 'ソリューション', '解決', '策', '考案', '1', 'システム', '開発', '企画', '開発', 'アイディア', 'プロトタイプ', '企業', 'フィードバック', '実社会', '問題', '解決', '能力', 'ニーズ', 'ICT', '活用', '専門', '職人', '材', '付加', '価値', '思考', '力', '身', '人工', '知能', 'システム', '開発', 'Ⅰ', '・', 'Ⅱ', '2', '年', '次', '前期', '3', '年', '次', '前期', '実習', '科目', '人工', '知能', 'システム', '開発', '専門', '知識', '高度', 'スキル', '身', 'ため', '代表', '的', 'アルゴリズム', '応用', 'AI', '要素', '技術', '統合', 'プロトタイプ', '作成', 'テスト', '評価', 'チーム', 'システム', '開発', '解決', '課題', '課題', '解決', '機械', '学習', 'アルゴリズム', '選択', '適用', 'AI', 'ツール', '選択', '解決', 'ため', 'システム', '設計', '実現', '方式', 'プログラム', '実装', 'テスト', 'システム', '評価', '問題', '解決', '度合い', '最終', '評価', '一連', 'システム', '実装', 'プロセス', 'プロトタイプ', '設計', '試作', '一部', '実社会', 'ソリューションシステム', '開発', 'プロジェクト', '進行', '体験', 'ノウハウ', '修得', 'AI', '頭', '理解', '車', '運転', 'よう', '全身', '理解', 'こと', '深層', '学習', '深層', '学習', '(', 'Deep', 'Learning', ')', '主要', '技術', 'ニューラルネットワーク', '技術', '内容', '実現', '手法', '効果', '講義', '適用', '例', '紹介', 'ツール', '活用', '実装', '例題', '具体', '的', '技術', '適用', '方法', '画像', '認識', 'システム', '実用', '深層', '学習', '技術', 'ニューラルネットワーク', 'CNN', '構築', '例題', '具体', '的', '1', '個', '以上', '実装', '例', '修得', '深層', '学習', '技術', '利用', '応用', '分野', '画像', '認識', '等', 'ソリューション', '技術', '活用', '事例', 'ベース', '適用', '可能', '性', '拡張', '性', '判断', 'よう', '情報', '参考', '元', 'サイト', 'https', '://', 'www', '.', 'iput', '.', 'ac', '.', 'jp', '/', 'tokyo', '/」']\n"
     ]
    }
   ],
   "source": [
    "from sklearn.feature_extraction.text import TfidfVectorizer\n",
    "from janome.tokenizer import Tokenizer\n",
    "from collections import Counter\n",
    "\n",
    "# Custom stop words list\n",
    "custom_stop_words = [\"ある\", \"する\", \"です\", \"など\", ...]  # Add more stop words as needed\n",
    "\n",
    "def extract_keywords(text):\n",
    "    # Janomeを使用して形態素解析を行います。\n",
    "    janome_parser = Tokenizer()\n",
    "    tokens = janome_parser.tokenize(text)\n",
    "\n",
    "    # 形態素解析の結果から名詞を抽出します。\n",
    "    nouns = [token.surface for token in tokens if '名詞' in token.part_of_speech]\n",
    "\n",
    "    # Remove custom stop words\n",
    "    nouns = [word for word in nouns if word not in custom_stop_words]\n",
    "\n",
    "    # If there are no meaningful words left, return an empty list\n",
    "    if not nouns:\n",
    "        return []\n",
    "\n",
    "    return nouns\n",
    "\n",
    "# すべてのキーワードを格納するリスト\n",
    "all_keywords = []\n",
    "\n",
    "for i in range(len(data_df['chunk'])):\n",
    "    extraction = data_df['chunk'][i]\n",
    "\n",
    "    # キーワードの抽出\n",
    "    keywords = extract_keywords(extraction)\n",
    "    all_keywords.append(keywords)\n",
    "\n",
    "    # すべてのキーワードを表示\n",
    "    print(f\"Keywords for chunk {i + 1}: {keywords}\")\n",
    "    print(\"-\" * 30)\n",
    "\n",
    "# すべてのキーワードをフラット化して表示\n",
    "flat_keywords = [keyword for sublist in all_keywords for keyword in sublist]\n",
    "print(\"All Keywords:\")\n",
    "print(flat_keywords)"
   ]
  },
  {
   "cell_type": "code",
   "execution_count": 30,
   "metadata": {},
   "outputs": [
    {
     "name": "stdout",
     "output_type": "stream",
     "text": [
      "[['現代', '社会', '課題', '多様', '要素', '複雑', '変化', '解決', '単一', '専門', '分野', '知識', '静的', '専門', '知', '困難', '私', 'たち', '既存', '諸', '学問', '壁', '専門', '分野', '横断', '現場', '実践', '知見', '最新', 'テクノロジー', '統合', '的', '駆使', '動的', '創造', '知', 'ため', '学生', '教員', '一体', '探究', '産業', '界', '地域', '世界', '人々', '協', '働', '理論', '実践', '武器', '新た', '価値', '創造', '未来', 'ため', '必要', '力', '多様', '複雑', '社会', '課題', 'Designer', 'in', 'Society', '社会', 'デザイナー', '世', 'これ', '時代', '対応', '新', '大学', '私', 'たち', '東京', '国際', '工科', '専門', '職', '大学', '使命'], ['55', '年', 'ぶり', '国', '大学', '制度', '職業', '直結', '教育', '専門', '職', '大学', 'プロフェッショナル', 'ため', '必要', '知識', '理論', '実践', '的', 'スキル', '身', 'こと', '卒業', '時', '専門', '職', '学位', '取得', '東京', '国際', '工科', '専門', '職', '大学', 'プロフェッショナル', '専門', '職', '従事', '人', '専門', '職', '職能', '意識', 'イノベーション', '人材'], ['学び', '少', '人数', '教育', '原則', '40', '人', '以下', '少', '人数', '授業', '専門', '職', '大学', '特長', '本学', '学生', '10', '人', '1', 'グループ', '担当', '教員', '完全', '担任', '制度', '採用', '学修', '進路', '指導', '細やか', 'サポート', '対話', '議論', '学び', '環境'], ['実践', '実務', '家', '教員', '教員', '４', '割', '以上', '企業', '等', '実務', '経験', '実務', '家', '教員', '本学', '企業', '活躍', '経験', 'エキスパート', '専任', '指導', '担当', '日々', '学び', '中', '世界', '業界', '最前線', '知識', '技能', '修得'], ['ビジネス', '最前線', '企業', '内', '実習', '一般', '的', '大学', '短期', '就業', '体験', 'インターンシップ', '企業', '内', '実習', '総', '期間', '16', '週間', '以上', '実働', '600', '時間', '以上', 'ビジネス', '現場', '業務', '課題', '解決', 'スキル', '実践', '力', '修得'], ['授業', '全体', '実習', '実技', '割合', '理論', '実践', '双方', '重視', 'ため', '卒業', '必要', '単位', 'うち', '1', '/', '3', '以上', '実習', '実技', '授業', '豊富', '実習', '実技', '視野', '知見', '身', '実践', '力', '創造', '力'], ['ビジネス', '現場', '高度', '実践', '力', '産業', '界', '連携', 'ビジネス', '実情', '授業', '内容', '改善', '積極', '的', '環境'], ['工', '科学', '部', '情報', '工学科', 'AI', '戦略', 'コース', '人工', '知能', '理論', '実装', 'ため', 'プログラミング', '技術', '段階', '的'], ['自動車', '自動', '運転', '過去', '検索', 'キーワード', '元', '候補', '予測', '変換', '事例', 'よう', 'ビッグ', 'データ', '目的', '情報', '学習', '推論', 'ユーザ', 'ニーズ', '新た', 'AI', 'サービス', 'デザイン', '人材', '育成'], ['目', '将来', '像', 'AI', 'エンジニア', 'システム', '開発', 'ソフトウェア', '開発', '等', 'IT', 'コンサルタント', 'データ', 'アナリスト', '企業', 'IT', '系', '製造', 'メーカー', '自動車', 'メーカー', '総合', '商社', '金融', '等', '官公庁', 'はじめ', '分野', '次世代', '産業', '人材'], ['授与', '学位', '情報', '工', '学士', '(', '専門', '職', ')'], ['情報', '工学科', '４', '年間', '学び'], ['１', '年次', '体験', '的', '学び', 'スタート', 'ＩＣＴ', '基本', 'マスター', '実践', '的', 'イントロダクション'], ['従来', '大学', '教育', '一般', '的', '理論', '先', '実践', '重視', '本学', '1', '年', '次', '前期', '製品', 'システム', '調査', '分析', 'もの', 'づくり', 'サービス', '開発', '技術', '授業', '先', 'テクノロジー', 'さ', '実体験', 'こと', 'その後', '理論', '専門', '知識', '理解', '少', '人数', 'クラス', '丁寧', '指導', 'ため', '初心者', '安心', '学び', 'こと', '1', '年間', '情報', '工学', '全体', '像', '理解', 'AI', 'IoT', 'ロボット', '分野', '基本', '的', '理論', '方法', '論', '修得'], ['２', '年', '次', 'コース', '別', 'カリキュラム', 'スタート', 'エンジニアリング', 'スキル', '身'], ['コース', '専門', '的', '知識', '技能', '本学', '現実', '的', '課題', '課題', '解決', '型', '学習', 'PBL', 'Project', 'Based', 'Learning', '重視', 'ため', '社会', '学内', '学び', '授業', '開始', '産業', '界', '地域', '連携', '地域', '共', '創', 'デザイン', '実習', '両', '学科', '混在', 'チーム', '1', '年間', '企業', '官公庁', '公共', '団体', '直面', '課題', '解決', 'ため', '共同', 'プロジェクト'], ['３', '年', '次', '専門', '知識', '技能', 'レベルアップ', 'テクノロジー', '実践', '力', 'ビジネス', 'センス'], ['実務', 'レベル', '高度', '理論', '技術', 'マスター', '2', '年', '次', 'スタート', '臨地', '実務', '実習', '実践', '的', '企業', '内', '実習', '2', '段階', '企業', '社会', '課題', '解決', 'システム', '開発', 'サービス', '向上', '等', 'ため', '6', '週間', '現場', 'タスク', '実行', '学内', '授業', '人工', '知能', '応用', '技術', 'IoT', '活用', 'データ', '分析', '産業', '用', 'ロボット', '実習', '実務', '直結', '学び', '充実', '指導', 'の', '日本', '代表', '研究', '者', '数々', '国際', '的', '業績', '実務', '家', '教員', 'たち', 'ため', '世界', '通用', '実践', '力'], ['４', '年次', '応用', '力', '総合', '力', '人材', 'デジタル', '社会', '活躍', '場'], ['卒業', '研究', '制作', '中心', '4', '年間', '学び', '集大成', '1', '年間', 'ICT', '飛躍', '的', '進化', '時代', 'AI', 'IoT', 'ロボット', '技術', '活用', '人材', 'データ', 'マネジメント', '的確', '人材', '活躍', '場', '産業', '界', '全体', '本学', '理論', '実践', '学問', '実務', '双方', '身', 'こと', '多様', '化', '複雑', '化', '社会', '課題', '解決', '社会', 'イノベーション', '人材', '成長'], ['デザイン', 'エンジニアリング', '概論'], ['Designer', 'in', 'Society', '核', 'デザイン', 'エンジニアリング', '概念', '方法', '論', '製品', '分解', '作業', '機能', '内部', '構造', 'ハードウェア', 'ソフトウェア', '両面', '調査', '製品', '要素', '分析', 'デザイン', '製品', 'サービス', '対象', '製品', 'サービス', '背後', '存在', '代表', '的', '技術', '設計', 'プロセス', '理解', 'こと', '制作', 'デザイン', 'エンジニアリング', '方法', '論', '身'], ['ソリューション', '開発', 'Ⅰ', '・', 'Ⅱ'], ['協力', '企業', '団体', '提供', '実践', '的', '課題', 'もと', 'チーム', 'ソリューション', '解決', '策', '考案', '1', 'システム', '開発', '企画', '開発', 'アイディア', 'プロトタイプ', '企業', 'フィードバック', '実社会', '問題', '解決', '能力', 'ニーズ', 'ICT', '活用', '専門', '職人', '材', '付加', '価値', '思考', '力', '身'], ['人工', '知能', 'システム', '開発', 'Ⅰ', '・', 'Ⅱ'], ['2', '年', '次', '前期', '3', '年', '次', '前期', '実習', '科目', '人工', '知能', 'システム', '開発', '専門', '知識', '高度', 'スキル', '身', 'ため', '代表', '的', 'アルゴリズム', '応用', 'AI', '要素', '技術', '統合', 'プロトタイプ', '作成', 'テスト', '評価', 'チーム', 'システム', '開発', '解決', '課題', '課題', '解決', '機械', '学習', 'アルゴリズム', '選択', '適用', 'AI', 'ツール', '選択', '解決', 'ため', 'システム', '設計', '実現', '方式', 'プログラム', '実装', 'テスト', 'システム', '評価', '問題', '解決', '度合い', '最終', '評価', '一連', 'システム', '実装', 'プロセス', 'プロトタイプ', '設計', '試作', '一部', '実社会', 'ソリューションシステム', '開発', 'プロジェクト', '進行', '体験', 'ノウハウ', '修得', 'AI', '頭', '理解', '車', '運転', 'よう', '全身', '理解', 'こと'], ['深層', '学習'], ['深層', '学習', '(', 'Deep', 'Learning', ')', '主要', '技術', 'ニューラルネットワーク', '技術', '内容', '実現', '手法', '効果', '講義', '適用', '例', '紹介', 'ツール', '活用', '実装', '例題', '具体', '的', '技術', '適用', '方法', '画像', '認識', 'システム', '実用', '深層', '学習', '技術', 'ニューラルネットワーク', 'CNN', '構築', '例題', '具体', '的', '1', '個', '以上', '実装', '例', '修得', '深層', '学習', '技術', '利用', '応用', '分野', '画像', '認識', '等', 'ソリューション', '技術', '活用', '事例', 'ベース', '適用', '可能', '性', '拡張', '性', '判断', 'よう'], ['情報', '参考', '元', 'サイト', 'https', '://', 'www', '.', 'iput', '.', 'ac', '.', 'jp', '/', 'tokyo', '/」']]\n"
     ]
    }
   ],
   "source": [
    "print(all_keywords)"
   ]
  },
  {
   "cell_type": "code",
   "execution_count": 26,
   "metadata": {},
   "outputs": [
    {
     "name": "stdout",
     "output_type": "stream",
     "text": [
      "                                                chunk key_extraction\n",
      "0   現代社会の課題は多様な要素が複雑に絡み合い、しかも常に変化しています。その解決には、単一の専...             専門\n",
      "1   55年ぶりに国がつくった新しい大学制度によって生まれた、職業に直結した教育を行う専門職大学。...             専門\n",
      "2   学びが行き届く 「少人数教育」原則40人以下で行う少人数授業が、専門職大学の特長。本学ではさ...             人数\n",
      "3   実践を学べる「実務家教員」 教員の４割以上は企業等で実務を経験した「実務家教員」特に本学では...             実務\n",
      "4   ビジネスの最前線「企業内実習」 一般的な大学で行われている短期の就業体験・インターンシップと...           ビジネス\n",
      "5   授業全体での「実習・実技の割合」理論と実践の双方を重視するため、卒業に必要な単位のうち、1/...             実技\n",
      "6   ビジネスの現場で培う高度な実践力 産業界との連携が強く、ビジネスの実情に即して授業内容の改善...           ビジネス\n",
      "7   工科学部・情報工学科 AI戦略コース 人工知能の理論から、実装のためのプログラミング技術まで...             ai\n",
      "8   自動車の「自動運転」や過去の検索キーワードを元に候補をあげる「予測変換」の事例のように、ビッ...             ai\n",
      "9   目指せる将来像 AIエンジニア（システム開発、ソフトウェア開発等） ITコンサルタント デー...             it\n",
      "10                             授与される学位は情報工学士(専門職)である。             学位\n",
      "11                                       情報工学科の４年間の学び             学び\n",
      "12     １年次体験的な学びからスタートし、ＩＣＴの基本をマスター　― 実践的イントロダクション ―       イントロダクション\n",
      "13  従来の大学教育では一般的に理論を先に学びますが、「実践を重視」する本学では、1年次前期に、実...             理論\n",
      "14        ２年次コース別のカリキュラムスタート　― 「エンジニアリングスキル」を身につける ―        エンジニアリング\n",
      "15  コースに分かれて専門的な知識・技能を養います。本学では現実的な課題に取り組む「課題解決型学習...             課題\n",
      "16    ３年次専門知識・技能のレベルアップ　― 「テクノロジー実践力」と「ビジネスセンス」を磨く ―             センス\n",
      "17  実務レベルの高度な理論や技術をマスターしていきます。2年次からスタートしている「臨地実務実習...             実務\n",
      "18              ４年次応用力と総合力を備えた人材へ　― デジタル社会で広がる活躍の場 ―            デジタル\n",
      "19  「卒業研究制作」を中心に、4年間の学びの集大成となる1年間です。ICTが飛躍的に進化するこれ...             人材\n",
      "20                                    デザインエンジニアリング概論        エンジニアリング\n",
      "21  “Designer in Society”の核となる、デザインエンジニアリングの概念およびそ...             製品\n",
      "22                                      ソリューション開発Ⅰ・Ⅱ         ソリューション\n",
      "23  協力企業・団体から提供される実践的な課題をもとに、チームでソリューション（解決策）を考案し、...             企業\n",
      "24                                     人工知能システム開発Ⅰ・Ⅱ            システム\n",
      "25  2年次前期、3年次前期の実習科目です。人工知能のシステム開発の専門知識と高度なスキルを身につ...           システム\n",
      "26                                               深層学習             学習\n",
      "27  深層学習(Deep Learning) の主要技術であるニューラルネットワークの技術内容とそ...             技術\n",
      "28    情報の参考元となるサイトは「https://www.iput.ac.jp/tokyo/」です。             ac\n"
     ]
    }
   ],
   "source": [
    "# key_extraction を data_df に追加\n",
    "data_df[\"key_extraction\"] = key_extraction\n",
    "\n",
    "# 結果の表示\n",
    "print(data_df)"
   ]
  },
  {
   "cell_type": "markdown",
   "metadata": {},
   "source": [
    "各chunkデータの固有表現の抽出"
   ]
  },
  {
   "cell_type": "code",
   "execution_count": 17,
   "metadata": {},
   "outputs": [
    {
     "name": "stdout",
     "output_type": "stream",
     "text": [
      "['学生', '55年ぶり', '40人以下', '実務家教員', '16週間以上', '1/3以上', 'データ', '工科学部・情報工学科', '自動運転', 'ITコンサルタント', '情報工学士', '情報工学科', '１', '1年次前期', '２', '課題解決型学習', '３', '2年次', '４', '4年間', 'デザインエンジニアリング概論', 'Designer in Society', 'Ⅰ・Ⅱ', '1つのシステム', '人工知能システム開発', '2', 'データ', 'ニューラルネットワーク', 'データ']\n"
     ]
    }
   ],
   "source": [
    "import spacy\n",
    "\n",
    "# spaCyの日本語モデルをロードします。\n",
    "nlp = spacy.load(\"ja_ginza\")\n",
    "\n",
    "def extract_highest_named_entity(text):\n",
    "   # モデルに解析対象のテキストを渡します。\n",
    "   doc = nlp(text)\n",
    "   # 固有表現の抽出\n",
    "   entities = [(ent.text, ent.label_) for ent in doc.ents]\n",
    "    # 抽出された固有表現があれば最も高い確信度のものを返す\n",
    "   if entities:\n",
    "      highest_entity = max(entities, key=lambda x: nlp(x[0]).similarity(nlp(x[0])))\n",
    "      return highest_entity\n",
    "   else:\n",
    "      return None\n",
    "\n",
    "#以下、内容\n",
    "ner_data = []\n",
    "\n",
    "for i in range(len(data_df)):\n",
    "   #print(texts[i])\n",
    "   #print(\"-\"*20)\n",
    "   base_data = data_df[\"chunk\"][i]\n",
    "\n",
    "   # 最も高い確信度の固有表現を抽出\n",
    "   result = extract_highest_named_entity(base_data)\n",
    "   # None の場合に \"データ\" を代入\n",
    "   if result is None:\n",
    "      result = (\"データ\", \"未知のタイプ\")\n",
    "   \n",
    "   \"\"\"\n",
    "   #固有表現の中身を確認\n",
    "   if result:\n",
    "      print(\"Highest Named Entity:\", result[0])\n",
    "      print(\"Entity Type:\", result[1])\n",
    "   else:\n",
    "      print(\"No named entities found.\")\n",
    "   \"\"\"\n",
    "   ner_data.append(result[0])\n",
    "\n",
    "print(ner_data)"
   ]
  },
  {
   "cell_type": "code",
   "execution_count": 27,
   "metadata": {},
   "outputs": [
    {
     "name": "stdout",
     "output_type": "stream",
     "text": [
      "Named Entities for chunk 1:\n",
      "Entity: 学生, Type: Position_Vocation\n",
      "Entity: 教員, Type: Position_Vocation\n",
      "Entity: Designer in Society, Type: Product_Other\n",
      "Entity: デザイナー, Type: Position_Vocation\n",
      "Entity: 東京国際, Type: School\n",
      "------------------------------\n",
      "Named Entities for chunk 2:\n",
      "Entity: 55年ぶり, Type: Period_Year\n",
      "Entity: 東京国際, Type: School\n",
      "------------------------------\n",
      "Named Entities for chunk 3:\n",
      "Entity: 40人以下, Type: N_Person\n",
      "Entity: 専門職大学, Type: Doctrine_Method_Other\n",
      "Entity: 学生, Type: Position_Vocation\n",
      "Entity: 約10人, Type: N_Person\n",
      "Entity: 1グループ, Type: N_Organization\n",
      "Entity: 担当教員, Type: Position_Vocation\n",
      "Entity: 完全担任制度, Type: Doctrine_Method_Other\n",
      "------------------------------\n",
      "Named Entities for chunk 4:\n",
      "Entity: 実務家教員, Type: Position_Vocation\n",
      "Entity: 教員, Type: Position_Vocation\n",
      "Entity: ４割以上, Type: Percent\n",
      "Entity: 実務家教員, Type: Position_Vocation\n",
      "Entity: エキスパート, Type: Clothing\n",
      "------------------------------\n",
      "Named Entities for chunk 5:\n",
      "Entity: 16週間以上, Type: Period_Week\n",
      "Entity: 600時間以上, Type: Period_Time\n",
      "------------------------------\n",
      "Named Entities for chunk 6:\n",
      "Entity: 1/3以上, Type: Percent\n",
      "------------------------------\n",
      "No named entities found for chunk 7\n",
      "------------------------------\n",
      "Named Entities for chunk 8:\n",
      "Entity: 工科学部・情報工学科, Type: Organization_Other\n",
      "------------------------------\n",
      "Named Entities for chunk 9:\n",
      "Entity: 自動運転, Type: Music\n",
      "------------------------------\n",
      "Named Entities for chunk 10:\n",
      "Entity: ITコンサルタント, Type: Position_Vocation\n",
      "------------------------------\n",
      "Named Entities for chunk 11:\n",
      "Entity: 情報工学士, Type: Organization_Other\n",
      "------------------------------\n",
      "Named Entities for chunk 12:\n",
      "Entity: 情報工学科, Type: Organization_Other\n",
      "Entity: ４年間, Type: Period_Year\n",
      "------------------------------\n",
      "Named Entities for chunk 13:\n",
      "Entity: １, Type: Ordinal_Number\n",
      "Entity: ＩＣＴ, Type: Product_Other\n",
      "------------------------------\n",
      "Named Entities for chunk 14:\n",
      "Entity: 1年次前期, Type: School_Age\n",
      "Entity: 1年間, Type: Period_Year\n",
      "Entity: 情報工学, Type: Organization_Other\n",
      "Entity: AI, Type: Product_Other\n",
      "------------------------------\n",
      "Named Entities for chunk 15:\n",
      "Entity: ２, Type: Ordinal_Number\n",
      "------------------------------\n",
      "Named Entities for chunk 16:\n",
      "Entity: 課題解決型学習, Type: Doctrine_Method_Other\n",
      "Entity: PBL, Type: Product_Other\n",
      "Entity: Project Based Learning, Type: Broadcast_Program\n",
      "Entity: 地域共創デザイン実習, Type: Plan\n",
      "Entity: 1年間, Type: Period_Year\n",
      "------------------------------\n",
      "Named Entities for chunk 17:\n",
      "Entity: ３, Type: Ordinal_Number\n",
      "Entity: テクノロジー実践力, Type: Product_Other\n",
      "------------------------------\n",
      "Named Entities for chunk 18:\n",
      "Entity: 2年次, Type: School_Age\n",
      "Entity: 臨地実務実習, Type: Product_Other\n",
      "Entity: 実践的企業内実習, Type: Product_Other\n",
      "Entity: 第2段階, Type: Ordinal_Number\n",
      "Entity: 6週間, Type: Period_Week\n",
      "Entity: IoT, Type: Product_Other\n",
      "Entity: 日本, Type: Country\n",
      "Entity: 研究者, Type: Position_Vocation\n",
      "Entity: 実務家教員, Type: Position_Vocation\n",
      "------------------------------\n",
      "Named Entities for chunk 19:\n",
      "Entity: ４, Type: Ordinal_Number\n",
      "------------------------------\n",
      "Named Entities for chunk 20:\n",
      "Entity: 4年間, Type: Period_Year\n",
      "Entity: 1年間, Type: Period_Year\n",
      "Entity: ICT, Type: Clothing\n",
      "Entity: AI, Type: Product_Other\n",
      "Entity: IoT, Type: Product_Other\n",
      "------------------------------\n",
      "Named Entities for chunk 21:\n",
      "Entity: デザインエンジニアリング概論, Type: Government\n",
      "------------------------------\n",
      "Named Entities for chunk 22:\n",
      "Entity: Designer in Society, Type: Product_Other\n",
      "Entity: デザインエンジニアリング, Type: Doctrine_Method_Other\n",
      "------------------------------\n",
      "Named Entities for chunk 23:\n",
      "Entity: Ⅰ・Ⅱ, Type: Ordinal_Number\n",
      "------------------------------\n",
      "Named Entities for chunk 24:\n",
      "Entity: 1つのシステム, Type: N_Product\n",
      "Entity: ICT, Type: Clothing\n",
      "Entity: 専門職人材, Type: Position_Vocation\n",
      "------------------------------\n",
      "Named Entities for chunk 25:\n",
      "Entity: 人工知能システム開発, Type: Doctrine_Method_Other\n",
      "Entity: Ⅰ・Ⅱ, Type: Ordinal_Number\n",
      "------------------------------\n",
      "Named Entities for chunk 26:\n",
      "Entity: 2, Type: Ordinal_Number\n",
      "Entity: 3年次前期, Type: N_Organization\n",
      "Entity: 頭, Type: Animal_Part\n",
      "------------------------------\n",
      "No named entities found for chunk 27\n",
      "------------------------------\n",
      "Named Entities for chunk 28:\n",
      "Entity: ニューラルネットワーク, Type: Product_Other\n",
      "Entity: 画像認識システム, Type: Doctrine_Method_Other\n",
      "Entity: 畳み込みニューラルネットワーク, Type: Product_Other\n",
      "Entity: CNN, Type: International_Organization\n",
      "Entity: 1個以上, Type: N_Product\n",
      "------------------------------\n",
      "No named entities found for chunk 29\n",
      "------------------------------\n",
      "[('学生', 'Position_Vocation'), ('教員', 'Position_Vocation'), ('Designer in Society', 'Product_Other'), ('デザイナー', 'Position_Vocation'), ('東京国際', 'School'), ('55年ぶり', 'Period_Year'), ('東京国際', 'School'), ('40人以下', 'N_Person'), ('専門職大学', 'Doctrine_Method_Other'), ('学生', 'Position_Vocation'), ('約10人', 'N_Person'), ('1グループ', 'N_Organization'), ('担当教員', 'Position_Vocation'), ('完全担任制度', 'Doctrine_Method_Other'), ('実務家教員', 'Position_Vocation'), ('教員', 'Position_Vocation'), ('４割以上', 'Percent'), ('実務家教員', 'Position_Vocation'), ('エキスパート', 'Clothing'), ('16週間以上', 'Period_Week'), ('600時間以上', 'Period_Time'), ('1/3以上', 'Percent'), ('工科学部・情報工学科', 'Organization_Other'), ('自動運転', 'Music'), ('ITコンサルタント', 'Position_Vocation'), ('情報工学士', 'Organization_Other'), ('情報工学科', 'Organization_Other'), ('４年間', 'Period_Year'), ('１', 'Ordinal_Number'), ('ＩＣＴ', 'Product_Other'), ('1年次前期', 'School_Age'), ('1年間', 'Period_Year'), ('情報工学', 'Organization_Other'), ('AI', 'Product_Other'), ('２', 'Ordinal_Number'), ('課題解決型学習', 'Doctrine_Method_Other'), ('PBL', 'Product_Other'), ('Project Based Learning', 'Broadcast_Program'), ('地域共創デザイン実習', 'Plan'), ('1年間', 'Period_Year'), ('３', 'Ordinal_Number'), ('テクノロジー実践力', 'Product_Other'), ('2年次', 'School_Age'), ('臨地実務実習', 'Product_Other'), ('実践的企業内実習', 'Product_Other'), ('第2段階', 'Ordinal_Number'), ('6週間', 'Period_Week'), ('IoT', 'Product_Other'), ('日本', 'Country'), ('研究者', 'Position_Vocation'), ('実務家教員', 'Position_Vocation'), ('４', 'Ordinal_Number'), ('4年間', 'Period_Year'), ('1年間', 'Period_Year'), ('ICT', 'Clothing'), ('AI', 'Product_Other'), ('IoT', 'Product_Other'), ('デザインエンジニアリング概論', 'Government'), ('Designer in Society', 'Product_Other'), ('デザインエンジニアリング', 'Doctrine_Method_Other'), ('Ⅰ・Ⅱ', 'Ordinal_Number'), ('1つのシステム', 'N_Product'), ('ICT', 'Clothing'), ('専門職人材', 'Position_Vocation'), ('人工知能システム開発', 'Doctrine_Method_Other'), ('Ⅰ・Ⅱ', 'Ordinal_Number'), ('2', 'Ordinal_Number'), ('3年次前期', 'N_Organization'), ('頭', 'Animal_Part'), ('ニューラルネットワーク', 'Product_Other'), ('画像認識システム', 'Doctrine_Method_Other'), ('畳み込みニューラルネットワーク', 'Product_Other'), ('CNN', 'International_Organization'), ('1個以上', 'N_Product')]\n"
     ]
    }
   ],
   "source": [
    "import spacy\n",
    "\n",
    "# spaCyの日本語モデルをロードします。\n",
    "nlp = spacy.load(\"ja_ginza\")\n",
    "\n",
    "def extract_named_entities(text):\n",
    "    # モデルに解析対象のテキストを渡します。\n",
    "    doc = nlp(text)\n",
    "    # 固有表現の抽出\n",
    "    entities = [(ent.text, ent.label_) for ent in doc.ents]\n",
    "    return entities\n",
    "\n",
    "#以下、内容\n",
    "ner_data = []\n",
    "\n",
    "for i in range(len(data_df)):\n",
    "    base_data = data_df[\"chunk\"][i]\n",
    "\n",
    "    # 固有表現の抽出\n",
    "    result = extract_named_entities(base_data)\n",
    "    \n",
    "    # 抽出された固有表現を全て表示\n",
    "    if result:\n",
    "        print(f\"Named Entities for chunk {i + 1}:\")\n",
    "        for entity, entity_type in result:\n",
    "            print(f\"Entity: {entity}, Type: {entity_type}\")\n",
    "        print(\"-\" * 30)\n",
    "    else:\n",
    "        print(f\"No named entities found for chunk {i + 1}\")\n",
    "        print(\"-\" * 30)\n",
    "\n",
    "    ner_data.extend(result)\n",
    "\n",
    "print(ner_data)"
   ]
  },
  {
   "cell_type": "code",
   "execution_count": null,
   "metadata": {},
   "outputs": [],
   "source": [
    "# ner_data を data_df に追加\n",
    "data_df[\"ner\"] = ner_data\n",
    "\n",
    "# 結果の表示\n",
    "print(data_df)"
   ]
  }
 ],
 "metadata": {
  "kernelspec": {
   "display_name": "pyspark-cuda118",
   "language": "python",
   "name": "python3"
  },
  "language_info": {
   "codemirror_mode": {
    "name": "ipython",
    "version": 3
   },
   "file_extension": ".py",
   "mimetype": "text/x-python",
   "name": "python",
   "nbconvert_exporter": "python",
   "pygments_lexer": "ipython3",
   "version": "3.10.13"
  }
 },
 "nbformat": 4,
 "nbformat_minor": 2
}
